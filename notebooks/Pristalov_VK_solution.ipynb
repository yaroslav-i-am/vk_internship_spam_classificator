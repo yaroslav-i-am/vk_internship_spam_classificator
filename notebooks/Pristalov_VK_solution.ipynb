{
  "cells": [
    {
      "cell_type": "markdown",
      "id": "0c005f88-f83b-4230-8f65-937bdcfa2553",
      "metadata": {
        "id": "0c005f88-f83b-4230-8f65-937bdcfa2553"
      },
      "source": [
        "# Профильное задание ML-инженер\n",
        "\n",
        "**Задача: классификация спам-сообщений**\n",
        "\n",
        "**Submissions are evaluated on AUC_ROC**"
      ]
    },
    {
      "cell_type": "code",
      "execution_count": null,
      "id": "b2782c65-e2ef-4951-ae15-24970858a136",
      "metadata": {
        "id": "b2782c65-e2ef-4951-ae15-24970858a136"
      },
      "outputs": [],
      "source": [
        "import numpy as np\n",
        "import pandas as pd\n",
        "\n",
        "from sklearn.model_selection import train_test_split, KFold\n",
        "from sklearn.metrics import roc_auc_score\n",
        "from sklearn.feature_extraction.text import TfidfVectorizer\n",
        "\n",
        "import textstat\n",
        "from nltk.tokenize import TreebankWordTokenizer, TweetTokenizer, word_tokenize\n",
        "from nltk.corpus import stopwords,  wordnet\n",
        "from nltk.stem import WordNetLemmatizer\n",
        "from nltk import pos_tag\n",
        "import re\n",
        "\n",
        "import torch\n",
        "from torch import nn, optim\n",
        "import torch.nn.functional as F\n",
        "import pytorch_lightning as L\n",
        "import torchmetrics\n",
        "\n",
        "# visualization\n",
        "import matplotlib.pyplot as plt\n",
        "import seaborn as sns\n",
        "from tqdm.notebook import tqdm\n",
        "tqdm.pandas()\n",
        "\n",
        "NUM_THREADS = 12\n",
        "DEVICE = torch.device('cuda') if torch.cuda.is_available() else torch.device('cpu')\n",
        "import os\n",
        "from typing import Callable\n",
        "\n",
        "# logging\n",
        "import wandb\n",
        "wandb.login()\n",
        "\n",
        "# Visual settings\n",
        "pd.set_option('display.max_rows', 500)\n",
        "from IPython.display import display\n",
        "from tabulate import tabulate\n",
        "SEED = 42\n",
        "\n",
        "import warnings\n",
        "warnings.filterwarnings('ignore')\n",
        "\n",
        "from catboost import CatBoostClassifier\n",
        "import fasttext\n",
        "from sklearn.linear_model import LogisticRegression, RidgeClassifier\n",
        "from sklearn.ensemble import RandomForestClassifier\n"
      ]
    },
    {
      "cell_type": "code",
      "execution_count": null,
      "id": "688a3f01-78c2-495b-aa96-841a7e58d14d",
      "metadata": {
        "id": "688a3f01-78c2-495b-aa96-841a7e58d14d"
      },
      "outputs": [],
      "source": [
        "def make_oof_prediction(models, X_test, n_classes=2):\n",
        "    preds = np.zeros((len(X_test), n_classes))\n",
        "    for md in models:\n",
        "        preds += md.predict_proba(X_test)\n",
        "    preds = preds[:, 1] / len(models)\n",
        "    return preds\n",
        "\n",
        "\n",
        "def seed_everything(seed: int):\n",
        "    import random, os\n",
        "    import numpy as np\n",
        "    import torch\n",
        "\n",
        "    random.seed(seed)\n",
        "    os.environ['PYTHONHASHSEED'] = str(seed)\n",
        "    np.random.seed(seed)\n",
        "    torch.manual_seed(seed)\n",
        "    torch.cuda.manual_seed(seed)\n",
        "    torch.backends.cudnn.deterministic = True\n",
        "    torch.backends.cudnn.benchmark = True\n",
        "\n",
        "\n",
        "seed_everything(42)"
      ]
    },
    {
      "cell_type": "markdown",
      "id": "41c55de6-2354-4d19-ad4c-a41ade1bd305",
      "metadata": {
        "id": "41c55de6-2354-4d19-ad4c-a41ade1bd305"
      },
      "source": [
        "## Global data preparation"
      ]
    },
    {
      "cell_type": "code",
      "execution_count": null,
      "id": "e71d7655-9d9b-43c8-b1cf-8bf04a9f072c",
      "metadata": {
        "id": "e71d7655-9d9b-43c8-b1cf-8bf04a9f072c",
        "outputId": "973e95d1-e254-4d13-ded6-30527f57a4ef"
      },
      "outputs": [
        {
          "name": "stdout",
          "output_type": "stream",
          "text": [
            "Index(['text_type', 'text'], dtype='object')\n"
          ]
        },
        {
          "data": {
            "text/html": [
              "<div>\n",
              "<style scoped>\n",
              "    .dataframe tbody tr th:only-of-type {\n",
              "        vertical-align: middle;\n",
              "    }\n",
              "\n",
              "    .dataframe tbody tr th {\n",
              "        vertical-align: top;\n",
              "    }\n",
              "\n",
              "    .dataframe thead th {\n",
              "        text-align: right;\n",
              "    }\n",
              "</style>\n",
              "<table border=\"1\" class=\"dataframe\">\n",
              "  <thead>\n",
              "    <tr style=\"text-align: right;\">\n",
              "      <th></th>\n",
              "      <th>text_type</th>\n",
              "      <th>text</th>\n",
              "    </tr>\n",
              "  </thead>\n",
              "  <tbody>\n",
              "    <tr>\n",
              "      <th>0</th>\n",
              "      <td>ham</td>\n",
              "      <td>make sure alex knows his birthday is over in f...</td>\n",
              "    </tr>\n",
              "    <tr>\n",
              "      <th>1</th>\n",
              "      <td>ham</td>\n",
              "      <td>a resume for john lavorato thanks vince i will...</td>\n",
              "    </tr>\n",
              "    <tr>\n",
              "      <th>2</th>\n",
              "      <td>spam</td>\n",
              "      <td>plzz visit my website moviesgodml to get all m...</td>\n",
              "    </tr>\n",
              "    <tr>\n",
              "      <th>3</th>\n",
              "      <td>spam</td>\n",
              "      <td>urgent your mobile number has been awarded wit...</td>\n",
              "    </tr>\n",
              "    <tr>\n",
              "      <th>4</th>\n",
              "      <td>ham</td>\n",
              "      <td>overview of hr associates analyst project per ...</td>\n",
              "    </tr>\n",
              "  </tbody>\n",
              "</table>\n",
              "</div>"
            ],
            "text/plain": [
              "  text_type                                               text\n",
              "0       ham  make sure alex knows his birthday is over in f...\n",
              "1       ham  a resume for john lavorato thanks vince i will...\n",
              "2      spam  plzz visit my website moviesgodml to get all m...\n",
              "3      spam  urgent your mobile number has been awarded wit...\n",
              "4       ham  overview of hr associates analyst project per ..."
            ]
          },
          "execution_count": 38,
          "metadata": {},
          "output_type": "execute_result"
        }
      ],
      "source": [
        "root = '../data/'\n",
        "sub_root = '../submissions/'\n",
        "seed_everything(SEED)\n",
        "\n",
        "full_train = pd.read_csv(root + 'train_spam.csv')\n",
        "test = pd.read_csv(root + 'test_spam.csv')\n",
        "\n",
        "print(full_train.columns)\n",
        "\n",
        "full_train.head()"
      ]
    },
    {
      "cell_type": "code",
      "execution_count": null,
      "id": "35535169-2760-4a99-96e9-c90b804720aa",
      "metadata": {
        "id": "35535169-2760-4a99-96e9-c90b804720aa",
        "outputId": "8964a6f5-73b2-4027-b6ab-f16f0f42a921"
      },
      "outputs": [
        {
          "data": {
            "image/png": "[encoded data removed]",
            "text/plain": [
              "<Figure size 500x500 with 1 Axes>"
            ]
          },
          "metadata": {},
          "output_type": "display_data"
        }
      ],
      "source": [
        "sns.displot(full_train.text_type);"
      ]
    },
    {
      "cell_type": "markdown",
      "id": "3840f4fc-7d5c-48fb-83f8-354fc53df6f0",
      "metadata": {
        "id": "3840f4fc-7d5c-48fb-83f8-354fc53df6f0"
      },
      "source": [
        "## Text preprocessing"
      ]
    },
    {
      "cell_type": "code",
      "execution_count": null,
      "id": "013581bb-b3cd-43ff-837d-336e505a89fd",
      "metadata": {
        "id": "013581bb-b3cd-43ff-837d-336e505a89fd",
        "outputId": "23264b66-ed88-48f7-9823-ca08ce175f1d"
      },
      "outputs": [
        {
          "data": {
            "text/html": [
              "<div>\n",
              "<style scoped>\n",
              "    .dataframe tbody tr th:only-of-type {\n",
              "        vertical-align: middle;\n",
              "    }\n",
              "\n",
              "    .dataframe tbody tr th {\n",
              "        vertical-align: top;\n",
              "    }\n",
              "\n",
              "    .dataframe thead th {\n",
              "        text-align: right;\n",
              "    }\n",
              "</style>\n",
              "<table border=\"1\" class=\"dataframe\">\n",
              "  <thead>\n",
              "    <tr style=\"text-align: right;\">\n",
              "      <th></th>\n",
              "      <th>text_type</th>\n",
              "      <th>text</th>\n",
              "    </tr>\n",
              "  </thead>\n",
              "  <tbody>\n",
              "    <tr>\n",
              "      <th>0</th>\n",
              "      <td>ham</td>\n",
              "      <td>make sure alex knows his birthday is over in f...</td>\n",
              "    </tr>\n",
              "    <tr>\n",
              "      <th>1</th>\n",
              "      <td>ham</td>\n",
              "      <td>a resume for john lavorato thanks vince i will...</td>\n",
              "    </tr>\n",
              "    <tr>\n",
              "      <th>2</th>\n",
              "      <td>spam</td>\n",
              "      <td>plzz visit my website moviesgodml to get all m...</td>\n",
              "    </tr>\n",
              "    <tr>\n",
              "      <th>3</th>\n",
              "      <td>spam</td>\n",
              "      <td>urgent your mobile number has been awarded wit...</td>\n",
              "    </tr>\n",
              "    <tr>\n",
              "      <th>4</th>\n",
              "      <td>ham</td>\n",
              "      <td>overview of hr associates analyst project per ...</td>\n",
              "    </tr>\n",
              "  </tbody>\n",
              "</table>\n",
              "</div>"
            ],
            "text/plain": [
              "  text_type                                               text\n",
              "0       ham  make sure alex knows his birthday is over in f...\n",
              "1       ham  a resume for john lavorato thanks vince i will...\n",
              "2      spam  plzz visit my website moviesgodml to get all m...\n",
              "3      spam  urgent your mobile number has been awarded wit...\n",
              "4       ham  overview of hr associates analyst project per ..."
            ]
          },
          "execution_count": 40,
          "metadata": {},
          "output_type": "execute_result"
        }
      ],
      "source": [
        "full_train.head()"
      ]
    },
    {
      "cell_type": "code",
      "execution_count": null,
      "id": "8abd0d86-9698-41bd-8e4a-8cc48275b51e",
      "metadata": {
        "colab": {
          "referenced_widgets": [
            "1e3e3e64d81b42ba80cd9c12798a182d",
            "0efa8c1f70044a40be270592fd04c992"
          ]
        },
        "id": "8abd0d86-9698-41bd-8e4a-8cc48275b51e",
        "outputId": "873fb891-7530-4e98-d54e-5a834adbb519"
      },
      "outputs": [
        {
          "data": {
            "application/vnd.jupyter.widget-view+json": {
              "model_id": "1e3e3e64d81b42ba80cd9c12798a182d",
              "version_major": 2,
              "version_minor": 0
            },
            "text/plain": [
              "  0%|          | 0/16278 [00:00<?, ?it/s]"
            ]
          },
          "metadata": {},
          "output_type": "display_data"
        },
        {
          "data": {
            "application/vnd.jupyter.widget-view+json": {
              "model_id": "0efa8c1f70044a40be270592fd04c992",
              "version_major": 2,
              "version_minor": 0
            },
            "text/plain": [
              "  0%|          | 0/4070 [00:00<?, ?it/s]"
            ]
          },
          "metadata": {},
          "output_type": "display_data"
        }
      ],
      "source": [
        "tok = TweetTokenizer()\n",
        "en_sw = [] # stopwords.words('english')\n",
        "\n",
        "full_train['text'] = full_train['text'].progress_apply(lambda txt: ' '.join([token.lower() for token in tok.tokenize(txt) if token.lower()  not in en_sw]))\n",
        "test['text'] = test['text'].progress_apply(lambda txt: ' '.join([token.lower()  for token in tok.tokenize(txt) if token.lower()  not in en_sw]))\n"
      ]
    },
    {
      "cell_type": "code",
      "execution_count": null,
      "id": "69e7b721-b598-4272-91d1-debb68a7ebb3",
      "metadata": {
        "colab": {
          "referenced_widgets": [
            "3e58fc7182b241b1b70d6bd74eb61890",
            "b83e061b2d8348938dfff74d30acbc94"
          ]
        },
        "id": "69e7b721-b598-4272-91d1-debb68a7ebb3",
        "outputId": "4c495120-63e2-4df8-df38-328bc613127d"
      },
      "outputs": [
        {
          "data": {
            "application/vnd.jupyter.widget-view+json": {
              "model_id": "3e58fc7182b241b1b70d6bd74eb61890",
              "version_major": 2,
              "version_minor": 0
            },
            "text/plain": [
              "  0%|          | 0/16278 [00:00<?, ?it/s]"
            ]
          },
          "metadata": {},
          "output_type": "display_data"
        },
        {
          "data": {
            "application/vnd.jupyter.widget-view+json": {
              "model_id": "b83e061b2d8348938dfff74d30acbc94",
              "version_major": 2,
              "version_minor": 0
            },
            "text/plain": [
              "  0%|          | 0/4070 [00:00<?, ?it/s]"
            ]
          },
          "metadata": {},
          "output_type": "display_data"
        }
      ],
      "source": [
        "from nltk.stem import SnowballStemmer\n",
        "stemmer = SnowballStemmer(language='english')\n",
        "\n",
        "full_train['text'] = full_train['text'].progress_apply(lambda el: ' '.join([stemmer.stem(word) for word in el.split()]))\n",
        "test['text'] = test['text'].progress_apply(lambda el: ' '.join([stemmer.stem(word) for word in el.split()]))\n"
      ]
    },
    {
      "cell_type": "code",
      "execution_count": null,
      "id": "63e08ab1-313a-44b9-99f3-102a8432b4f4",
      "metadata": {
        "id": "63e08ab1-313a-44b9-99f3-102a8432b4f4",
        "outputId": "70ec5927-f4d0-429f-b287-088d3fa18ef2"
      },
      "outputs": [
        {
          "data": {
            "text/html": [
              "<div>\n",
              "<style scoped>\n",
              "    .dataframe tbody tr th:only-of-type {\n",
              "        vertical-align: middle;\n",
              "    }\n",
              "\n",
              "    .dataframe tbody tr th {\n",
              "        vertical-align: top;\n",
              "    }\n",
              "\n",
              "    .dataframe thead th {\n",
              "        text-align: right;\n",
              "    }\n",
              "</style>\n",
              "<table border=\"1\" class=\"dataframe\">\n",
              "  <thead>\n",
              "    <tr style=\"text-align: right;\">\n",
              "      <th></th>\n",
              "      <th>text_type</th>\n",
              "      <th>text</th>\n",
              "    </tr>\n",
              "  </thead>\n",
              "  <tbody>\n",
              "    <tr>\n",
              "      <th>0</th>\n",
              "      <td>ham</td>\n",
              "      <td>make sure alex know his birthday is over in fi...</td>\n",
              "    </tr>\n",
              "    <tr>\n",
              "      <th>1</th>\n",
              "      <td>ham</td>\n",
              "      <td>a resum for john lavorato thank vinc i will ge...</td>\n",
              "    </tr>\n",
              "    <tr>\n",
              "      <th>2</th>\n",
              "      <td>spam</td>\n",
              "      <td>plzz visit my websit moviesgodml to get all mo...</td>\n",
              "    </tr>\n",
              "    <tr>\n",
              "      <th>3</th>\n",
              "      <td>spam</td>\n",
              "      <td>urgent your mobil number has been award with a...</td>\n",
              "    </tr>\n",
              "    <tr>\n",
              "      <th>4</th>\n",
              "      <td>ham</td>\n",
              "      <td>overview of hr associ analyst project per davi...</td>\n",
              "    </tr>\n",
              "    <tr>\n",
              "      <th>...</th>\n",
              "      <td>...</td>\n",
              "      <td>...</td>\n",
              "    </tr>\n",
              "    <tr>\n",
              "      <th>16273</th>\n",
              "      <td>spam</td>\n",
              "      <td>if you are interest in binari option trade so ...</td>\n",
              "    </tr>\n",
              "    <tr>\n",
              "      <th>16274</th>\n",
              "      <td>spam</td>\n",
              "      <td>dirti pictureblyk on aircel thank you for be a...</td>\n",
              "    </tr>\n",
              "    <tr>\n",
              "      <th>16275</th>\n",
              "      <td>ham</td>\n",
              "      <td>or you could do this g on mon 1635465 sep 1635...</td>\n",
              "    </tr>\n",
              "    <tr>\n",
              "      <th>16276</th>\n",
              "      <td>ham</td>\n",
              "      <td>insta reel par 80 गंद bhara pada hai 👀 kuch bh...</td>\n",
              "    </tr>\n",
              "    <tr>\n",
              "      <th>16277</th>\n",
              "      <td>ham</td>\n",
              "      <td>alex s paper comment 1 in the sentenc between ...</td>\n",
              "    </tr>\n",
              "  </tbody>\n",
              "</table>\n",
              "<p>16278 rows × 2 columns</p>\n",
              "</div>"
            ],
            "text/plain": [
              "      text_type                                               text\n",
              "0           ham  make sure alex know his birthday is over in fi...\n",
              "1           ham  a resum for john lavorato thank vinc i will ge...\n",
              "2          spam  plzz visit my websit moviesgodml to get all mo...\n",
              "3          spam  urgent your mobil number has been award with a...\n",
              "4           ham  overview of hr associ analyst project per davi...\n",
              "...         ...                                                ...\n",
              "16273      spam  if you are interest in binari option trade so ...\n",
              "16274      spam  dirti pictureblyk on aircel thank you for be a...\n",
              "16275       ham  or you could do this g on mon 1635465 sep 1635...\n",
              "16276       ham  insta reel par 80 गंद bhara pada hai 👀 kuch bh...\n",
              "16277       ham  alex s paper comment 1 in the sentenc between ...\n",
              "\n",
              "[16278 rows x 2 columns]"
            ]
          },
          "execution_count": 43,
          "metadata": {},
          "output_type": "execute_result"
        }
      ],
      "source": [
        "full_train"
      ]
    },
    {
      "cell_type": "code",
      "execution_count": null,
      "id": "d393ea79-ca3d-4c4c-87e3-2e50dc4c233a",
      "metadata": {
        "id": "d393ea79-ca3d-4c4c-87e3-2e50dc4c233a",
        "outputId": "f56403c4-f1e5-40e7-8f8b-2489d0231d7d"
      },
      "outputs": [
        {
          "data": {
            "text/html": [
              "<div>\n",
              "<style scoped>\n",
              "    .dataframe tbody tr th:only-of-type {\n",
              "        vertical-align: middle;\n",
              "    }\n",
              "\n",
              "    .dataframe tbody tr th {\n",
              "        vertical-align: top;\n",
              "    }\n",
              "\n",
              "    .dataframe thead th {\n",
              "        text-align: right;\n",
              "    }\n",
              "</style>\n",
              "<table border=\"1\" class=\"dataframe\">\n",
              "  <thead>\n",
              "    <tr style=\"text-align: right;\">\n",
              "      <th></th>\n",
              "      <th>text_type</th>\n",
              "      <th>text</th>\n",
              "    </tr>\n",
              "  </thead>\n",
              "  <tbody>\n",
              "    <tr>\n",
              "      <th>0</th>\n",
              "      <td>ham</td>\n",
              "      <td>make sure alex knows his birthday is over in f...</td>\n",
              "    </tr>\n",
              "  </tbody>\n",
              "</table>\n",
              "</div>"
            ],
            "text/plain": [
              "  text_type                                               text\n",
              "0       ham  make sure alex knows his birthday is over in f..."
            ]
          },
          "metadata": {},
          "output_type": "display_data"
        },
        {
          "name": "stdout",
          "output_type": "stream",
          "text": [
            "FOLD --> 0\n",
            "ROC_AUC for fold 0: 0.9616417872620827\n",
            "\n",
            "\n",
            "FOLD --> 1\n",
            "ROC_AUC for fold 1: 0.9633630525565748\n",
            "\n",
            "\n",
            "FOLD --> 2\n",
            "ROC_AUC for fold 2: 0.9607486165055293\n",
            "\n",
            "\n",
            "FOLD --> 3\n",
            "ROC_AUC for fold 3: 0.956725537026113\n",
            "\n",
            "\n",
            "FOLD --> 4\n",
            "ROC_AUC for fold 4: 0.9620786092214664\n",
            "\n",
            "\n",
            "ROC_AUC: [0.9616417872620827, 0.9633630525565748, 0.9607486165055293, 0.956725537026113, 0.9620786092214664]\n",
            "MEAN - STD: 0.958655223086838\n"
          ]
        }
      ],
      "source": [
        "display(full_train.head(1))\n",
        "\n",
        "seed_everything(SEED)\n",
        "\n",
        "X = full_train[['text']]\n",
        "y = full_train['text_type']\n",
        "\n",
        "params = {\n",
        "    'depth': 6,\n",
        "    'learning_rate': 0.03,\n",
        "    'iterations': 10000,\n",
        "    'eval_metric': 'AUC',\n",
        "    'verbose': 500,\n",
        "    'random_seed': SEED,\n",
        "}\n",
        "\n",
        "n_splits = 5\n",
        "\n",
        "models = []\n",
        "metrics = []\n",
        "\n",
        "kf = KFold(n_splits=n_splits, random_state=SEED, shuffle=True)\n",
        "\n",
        "# цикл по фолдам\n",
        "for i, (train_index, test_index) in enumerate(kf.split(X)):\n",
        "    print(f'FOLD --> {i}')\n",
        "    X_train, X_test = X.iloc[train_index], X.iloc[test_index]\n",
        "    y_train, y_test = y.iloc[train_index], y.iloc[test_index]\n",
        "\n",
        "    veccer = TfidfVectorizer(max_features=1000)\n",
        "    X_train = veccer.fit_transform(X_train['text']).toarray()\n",
        "    X_test = veccer.transform(X_test['text']).toarray()\n",
        "\n",
        "    model = LogisticRegression(random_state=SEED, n_jobs=12)\n",
        "    model.fit(X_train, y_train)\n",
        "    models.append(model)\n",
        "\n",
        "    y_pred = model.predict_proba(X_test)[:, 1]\n",
        "\n",
        "    metric = roc_auc_score(y_test, y_pred)\n",
        "    metrics.append(metric)\n",
        "    print(f\"ROC_AUC for fold {i}: {metric}\\n\\n\")\n",
        "\n",
        "\n",
        "print('ROC_AUC:', metrics)\n",
        "print('MEAN - STD:', np.mean(metrics) - np.std(metrics))\n"
      ]
    },
    {
      "cell_type": "markdown",
      "id": "1287965d-711d-4151-b8d9-00b4278a80d8",
      "metadata": {
        "id": "1287965d-711d-4151-b8d9-00b4278a80d8"
      },
      "source": [
        "# CatBoost training"
      ]
    },
    {
      "cell_type": "code",
      "execution_count": null,
      "id": "e9878938-eea8-4533-a34a-e073a1254502",
      "metadata": {
        "scrolled": true,
        "id": "e9878938-eea8-4533-a34a-e073a1254502",
        "outputId": "159b9195-1548-4b64-ae14-1ce635db1f16"
      },
      "outputs": [
        {
          "data": {
            "text/html": [
              "<div>\n",
              "<style scoped>\n",
              "    .dataframe tbody tr th:only-of-type {\n",
              "        vertical-align: middle;\n",
              "    }\n",
              "\n",
              "    .dataframe tbody tr th {\n",
              "        vertical-align: top;\n",
              "    }\n",
              "\n",
              "    .dataframe thead th {\n",
              "        text-align: right;\n",
              "    }\n",
              "</style>\n",
              "<table border=\"1\" class=\"dataframe\">\n",
              "  <thead>\n",
              "    <tr style=\"text-align: right;\">\n",
              "      <th></th>\n",
              "      <th>text_type</th>\n",
              "      <th>text</th>\n",
              "    </tr>\n",
              "  </thead>\n",
              "  <tbody>\n",
              "    <tr>\n",
              "      <th>0</th>\n",
              "      <td>ham</td>\n",
              "      <td>make sure alex knows his birthday is over in f...</td>\n",
              "    </tr>\n",
              "  </tbody>\n",
              "</table>\n",
              "</div>"
            ],
            "text/plain": [
              "  text_type                                               text\n",
              "0       ham  make sure alex knows his birthday is over in f..."
            ]
          },
          "metadata": {},
          "output_type": "display_data"
        },
        {
          "name": "stdout",
          "output_type": "stream",
          "text": [
            "FOLD --> 0\n",
            "0:\ttest: 0.7487487\tbest: 0.7487487 (0)\ttotal: 43.6ms\tremaining: 7m 15s\n",
            "500:\ttest: 0.9641401\tbest: 0.9641496 (499)\ttotal: 21.9s\tremaining: 6m 55s\n",
            "1000:\ttest: 0.9704032\tbest: 0.9704032 (1000)\ttotal: 44.1s\tremaining: 6m 36s\n",
            "1500:\ttest: 0.9731292\tbest: 0.9731555 (1476)\ttotal: 1m 4s\tremaining: 6m 7s\n",
            "2000:\ttest: 0.9745856\tbest: 0.9745896 (1995)\ttotal: 1m 25s\tremaining: 5m 41s\n",
            "2500:\ttest: 0.9754902\tbest: 0.9755084 (2480)\ttotal: 1m 46s\tremaining: 5m 18s\n",
            "3000:\ttest: 0.9759158\tbest: 0.9759675 (2962)\ttotal: 2m 7s\tremaining: 4m 57s\n",
            "3500:\ttest: 0.9758885\tbest: 0.9760178 (3157)\ttotal: 2m 29s\tremaining: 4m 38s\n",
            "4000:\ttest: 0.9761726\tbest: 0.9762265 (3977)\ttotal: 2m 51s\tremaining: 4m 17s\n",
            "4500:\ttest: 0.9761158\tbest: 0.9762710 (4147)\ttotal: 3m 13s\tremaining: 3m 56s\n",
            "5000:\ttest: 0.9760800\tbest: 0.9762710 (4147)\ttotal: 3m 36s\tremaining: 3m 36s\n",
            "Stopped by overfitting detector  (1000 iterations wait)\n",
            "\n",
            "bestTest = 0.9762710057\n",
            "bestIteration = 4147\n",
            "\n",
            "Shrink model to first 4148 iterations.\n",
            "ROC_AUC for fold 0: 0.976271005734611\n",
            "\n",
            "\n",
            "FOLD --> 1\n",
            "0:\ttest: 0.7241939\tbest: 0.7241939 (0)\ttotal: 48.8ms\tremaining: 8m 7s\n",
            "500:\ttest: 0.9612648\tbest: 0.9612648 (500)\ttotal: 22.6s\tremaining: 7m 8s\n",
            "1000:\ttest: 0.9692589\tbest: 0.9692589 (1000)\ttotal: 44.6s\tremaining: 6m 41s\n",
            "1500:\ttest: 0.9722107\tbest: 0.9722148 (1499)\ttotal: 1m 7s\tremaining: 6m 21s\n",
            "2000:\ttest: 0.9736776\tbest: 0.9736884 (1995)\ttotal: 1m 29s\tremaining: 5m 57s\n",
            "2500:\ttest: 0.9747021\tbest: 0.9747230 (2480)\ttotal: 1m 51s\tremaining: 5m 33s\n",
            "3000:\ttest: 0.9751667\tbest: 0.9751874 (2970)\ttotal: 2m 13s\tremaining: 5m 11s\n",
            "3500:\ttest: 0.9758185\tbest: 0.9758199 (3483)\ttotal: 2m 35s\tremaining: 4m 49s\n",
            "4000:\ttest: 0.9760817\tbest: 0.9760817 (4000)\ttotal: 2m 58s\tremaining: 4m 27s\n",
            "4500:\ttest: 0.9764230\tbest: 0.9764658 (4396)\ttotal: 3m 21s\tremaining: 4m 5s\n",
            "5000:\ttest: 0.9766295\tbest: 0.9766359 (4998)\ttotal: 3m 43s\tremaining: 3m 43s\n",
            "5500:\ttest: 0.9766708\tbest: 0.9767283 (5445)\ttotal: 4m 5s\tremaining: 3m 20s\n",
            "6000:\ttest: 0.9766254\tbest: 0.9767283 (5445)\ttotal: 4m 28s\tremaining: 2m 58s\n",
            "Stopped by overfitting detector  (1000 iterations wait)\n",
            "\n",
            "bestTest = 0.9767282641\n",
            "bestIteration = 5445\n",
            "\n",
            "Shrink model to first 5446 iterations.\n",
            "ROC_AUC for fold 1: 0.976728264064969\n",
            "\n",
            "\n",
            "FOLD --> 2\n",
            "0:\ttest: 0.7160236\tbest: 0.7160236 (0)\ttotal: 45.6ms\tremaining: 7m 35s\n",
            "500:\ttest: 0.9605909\tbest: 0.9606989 (494)\ttotal: 22.5s\tremaining: 7m 7s\n",
            "1000:\ttest: 0.9677620\tbest: 0.9679066 (978)\ttotal: 45.8s\tremaining: 6m 51s\n",
            "1500:\ttest: 0.9703269\tbest: 0.9703269 (1500)\ttotal: 1m 8s\tremaining: 6m 26s\n",
            "2000:\ttest: 0.9716688\tbest: 0.9716725 (1990)\ttotal: 1m 30s\tremaining: 6m 2s\n",
            "2500:\ttest: 0.9724981\tbest: 0.9724981 (2500)\ttotal: 1m 53s\tremaining: 5m 39s\n",
            "3000:\ttest: 0.9732729\tbest: 0.9733254 (2979)\ttotal: 2m 15s\tremaining: 5m 15s\n",
            "3500:\ttest: 0.9741492\tbest: 0.9741610 (3424)\ttotal: 2m 38s\tremaining: 4m 53s\n",
            "4000:\ttest: 0.9747016\tbest: 0.9747071 (3864)\ttotal: 3m\tremaining: 4m 30s\n",
            "4500:\ttest: 0.9751514\tbest: 0.9751871 (4453)\ttotal: 3m 22s\tremaining: 4m 7s\n",
            "5000:\ttest: 0.9753386\tbest: 0.9754082 (4917)\ttotal: 3m 45s\tremaining: 3m 44s\n",
            "5500:\ttest: 0.9755850\tbest: 0.9755859 (5498)\ttotal: 4m 7s\tremaining: 3m 22s\n",
            "6000:\ttest: 0.9755633\tbest: 0.9757726 (5796)\ttotal: 4m 29s\tremaining: 2m 59s\n",
            "6500:\ttest: 0.9757545\tbest: 0.9758037 (6476)\ttotal: 4m 51s\tremaining: 2m 37s\n",
            "7000:\ttest: 0.9758684\tbest: 0.9759742 (6936)\ttotal: 5m 14s\tremaining: 2m 14s\n",
            "7500:\ttest: 0.9758589\tbest: 0.9759742 (6936)\ttotal: 5m 36s\tremaining: 1m 52s\n",
            "8000:\ttest: 0.9759516\tbest: 0.9759787 (7879)\ttotal: 5m 58s\tremaining: 1m 29s\n",
            "8500:\ttest: 0.9760040\tbest: 0.9760366 (8241)\ttotal: 6m 21s\tremaining: 1m 7s\n",
            "9000:\ttest: 0.9759466\tbest: 0.9760655 (8583)\ttotal: 6m 43s\tremaining: 44.8s\n",
            "9500:\ttest: 0.9759954\tbest: 0.9760759 (9430)\ttotal: 7m 5s\tremaining: 22.4s\n",
            "9999:\ttest: 0.9761003\tbest: 0.9761007 (9992)\ttotal: 7m 28s\tremaining: 0us\n",
            "\n",
            "bestTest = 0.9761007441\n",
            "bestIteration = 9992\n",
            "\n",
            "Shrink model to first 9993 iterations.\n",
            "ROC_AUC for fold 2: 0.9761007440758722\n",
            "\n",
            "\n",
            "FOLD --> 3\n",
            "0:\ttest: 0.7274663\tbest: 0.7274663 (0)\ttotal: 47.8ms\tremaining: 7m 58s\n",
            "500:\ttest: 0.9584693\tbest: 0.9585217 (499)\ttotal: 22.9s\tremaining: 7m 14s\n",
            "1000:\ttest: 0.9648262\tbest: 0.9648878 (994)\ttotal: 45.6s\tremaining: 6m 49s\n",
            "1500:\ttest: 0.9685677\tbest: 0.9685677 (1500)\ttotal: 1m 8s\tremaining: 6m 30s\n",
            "2000:\ttest: 0.9701854\tbest: 0.9702120 (1993)\ttotal: 1m 31s\tremaining: 6m 5s\n",
            "2500:\ttest: 0.9716727\tbest: 0.9716842 (2494)\ttotal: 1m 56s\tremaining: 5m 49s\n",
            "3000:\ttest: 0.9719650\tbest: 0.9720270 (2992)\ttotal: 2m 21s\tremaining: 5m 29s\n",
            "3500:\ttest: 0.9724630\tbest: 0.9724970 (3483)\ttotal: 2m 43s\tremaining: 5m 3s\n",
            "4000:\ttest: 0.9727244\tbest: 0.9727717 (3974)\ttotal: 3m 6s\tremaining: 4m 39s\n",
            "4500:\ttest: 0.9732314\tbest: 0.9732314 (4499)\ttotal: 3m 28s\tremaining: 4m 14s\n",
            "5000:\ttest: 0.9736259\tbest: 0.9736277 (4994)\ttotal: 3m 51s\tremaining: 3m 51s\n",
            "5500:\ttest: 0.9737577\tbest: 0.9738031 (5477)\ttotal: 4m 13s\tremaining: 3m 27s\n",
            "6000:\ttest: 0.9739997\tbest: 0.9740433 (5934)\ttotal: 4m 36s\tremaining: 3m 4s\n",
            "6500:\ttest: 0.9741687\tbest: 0.9741880 (6356)\ttotal: 4m 58s\tremaining: 2m 40s\n",
            "7000:\ttest: 0.9742665\tbest: 0.9742789 (6984)\ttotal: 5m 21s\tremaining: 2m 17s\n",
            "7500:\ttest: 0.9742706\tbest: 0.9743138 (7456)\ttotal: 5m 43s\tremaining: 1m 54s\n",
            "8000:\ttest: 0.9744351\tbest: 0.9744387 (7997)\ttotal: 6m 6s\tremaining: 1m 31s\n",
            "8500:\ttest: 0.9743992\tbest: 0.9744387 (7997)\ttotal: 6m 28s\tremaining: 1m 8s\n",
            "9000:\ttest: 0.9743120\tbest: 0.9744534 (8644)\ttotal: 6m 51s\tremaining: 45.6s\n",
            "9500:\ttest: 0.9743832\tbest: 0.9744534 (8644)\ttotal: 7m 13s\tremaining: 22.8s\n",
            "Stopped by overfitting detector  (1000 iterations wait)\n",
            "\n",
            "bestTest = 0.9744534263\n",
            "bestIteration = 8644\n",
            "\n",
            "Shrink model to first 8645 iterations.\n",
            "ROC_AUC for fold 3: 0.9744534263095679\n",
            "\n",
            "\n",
            "FOLD --> 4\n",
            "0:\ttest: 0.7222260\tbest: 0.7222260 (0)\ttotal: 52.3ms\tremaining: 8m 43s\n",
            "500:\ttest: 0.9648922\tbest: 0.9648922 (500)\ttotal: 23.5s\tremaining: 7m 24s\n",
            "1000:\ttest: 0.9705203\tbest: 0.9705288 (999)\ttotal: 46.5s\tremaining: 6m 58s\n",
            "1500:\ttest: 0.9730453\tbest: 0.9730461 (1499)\ttotal: 1m 8s\tremaining: 6m 26s\n",
            "2000:\ttest: 0.9747338\tbest: 0.9747338 (2000)\ttotal: 1m 31s\tremaining: 6m 4s\n",
            "2500:\ttest: 0.9754918\tbest: 0.9755524 (2452)\ttotal: 1m 54s\tremaining: 5m 41s\n",
            "3000:\ttest: 0.9761839\tbest: 0.9762193 (2963)\ttotal: 2m 17s\tremaining: 5m 19s\n",
            "3500:\ttest: 0.9766333\tbest: 0.9766413 (3497)\ttotal: 2m 39s\tremaining: 4m 56s\n",
            "4000:\ttest: 0.9768100\tbest: 0.9768198 (3918)\ttotal: 3m 3s\tremaining: 4m 34s\n",
            "4500:\ttest: 0.9771668\tbest: 0.9771726 (4497)\ttotal: 3m 25s\tremaining: 4m 10s\n",
            "5000:\ttest: 0.9773642\tbest: 0.9773673 (4999)\ttotal: 3m 46s\tremaining: 3m 46s\n",
            "5500:\ttest: 0.9772552\tbest: 0.9773815 (5013)\ttotal: 4m 8s\tremaining: 3m 23s\n",
            "6000:\ttest: 0.9774111\tbest: 0.9774249 (5996)\ttotal: 4m 29s\tremaining: 2m 59s\n",
            "6500:\ttest: 0.9774448\tbest: 0.9774461 (6498)\ttotal: 4m 52s\tremaining: 2m 37s\n",
            "7000:\ttest: 0.9772477\tbest: 0.9775042 (6687)\ttotal: 5m 16s\tremaining: 2m 15s\n",
            "7500:\ttest: 0.9772273\tbest: 0.9775042 (6687)\ttotal: 5m 39s\tremaining: 1m 53s\n",
            "Stopped by overfitting detector  (1000 iterations wait)\n",
            "\n",
            "bestTest = 0.9775041572\n",
            "bestIteration = 6687\n",
            "\n",
            "Shrink model to first 6688 iterations.\n",
            "ROC_AUC for fold 4: 0.97750415724255\n",
            "\n",
            "\n",
            "ROC_AUC: [0.976271005734611, 0.976728264064969, 0.9761007440758722, 0.9744534263095679, 0.97750415724255] std:\n",
            "MEAN - STD: 0.9752070655291943\n"
          ]
        }
      ],
      "source": [
        "display(full_train.head(1))\n",
        "\n",
        "seed_everything(SEED)\n",
        "\n",
        "X = full_train[['text']]\n",
        "y = full_train['text_type']\n",
        "\n",
        "params = {\n",
        "    'depth': 6,\n",
        "    'learning_rate': 0.03,\n",
        "    'iterations': 10000,\n",
        "    'eval_metric': 'AUC',\n",
        "    'verbose': 500,\n",
        "    'random_seed': SEED,\n",
        "}\n",
        "\n",
        "n_splits = 5\n",
        "\n",
        "models = []\n",
        "metrics = []\n",
        "\n",
        "kf = KFold(n_splits=n_splits, random_state=SEED, shuffle=True)\n",
        "\n",
        "# цикл по фолдам\n",
        "for i, (train_index, test_index) in enumerate(kf.split(X)):\n",
        "    print(f'FOLD --> {i}')\n",
        "    X_train, X_test = X.iloc[train_index], X.iloc[test_index]\n",
        "    y_train, y_test = y.iloc[train_index], y.iloc[test_index]\n",
        "\n",
        "    veccer = TfidfVectorizer(max_features=1000)\n",
        "    X_train = veccer.fit_transform(X_train['text']).toarray()\n",
        "    X_test = veccer.transform(X_test['text']).toarray()\n",
        "\n",
        "    model = CatBoostClassifier(**params)\n",
        "    model.fit(X_train, y_train, eval_set=(X_test, y_test), early_stopping_rounds=1000)\n",
        "    models.append(model)\n",
        "\n",
        "    y_pred = model.predict_proba(X_test)[:, 1]\n",
        "\n",
        "    metric = roc_auc_score(y_test, y_pred)\n",
        "    metrics.append(metric)\n",
        "    print(f\"ROC_AUC for fold {i}: {metric}\\n\\n\")\n",
        "\n",
        "\n",
        "print('ROC_AUC:', metrics)\n",
        "print('MEAN - STD:', np.mean(metrics) - np.std(metrics))\n"
      ]
    },
    {
      "cell_type": "markdown",
      "id": "69f496e9-5792-41b5-b5a6-b29803b1dea3",
      "metadata": {
        "id": "69f496e9-5792-41b5-b5a6-b29803b1dea3"
      },
      "source": [
        "## text_features Catboost training"
      ]
    },
    {
      "cell_type": "code",
      "execution_count": null,
      "id": "a2c18e9d-619f-47f4-b427-a3d7aae86621",
      "metadata": {
        "scrolled": true,
        "id": "a2c18e9d-619f-47f4-b427-a3d7aae86621",
        "outputId": "7527910d-9623-4282-aea4-9d1f38a014d5"
      },
      "outputs": [
        {
          "data": {
            "text/html": [
              "<div>\n",
              "<style scoped>\n",
              "    .dataframe tbody tr th:only-of-type {\n",
              "        vertical-align: middle;\n",
              "    }\n",
              "\n",
              "    .dataframe tbody tr th {\n",
              "        vertical-align: top;\n",
              "    }\n",
              "\n",
              "    .dataframe thead th {\n",
              "        text-align: right;\n",
              "    }\n",
              "</style>\n",
              "<table border=\"1\" class=\"dataframe\">\n",
              "  <thead>\n",
              "    <tr style=\"text-align: right;\">\n",
              "      <th></th>\n",
              "      <th>text_type</th>\n",
              "      <th>text</th>\n",
              "    </tr>\n",
              "  </thead>\n",
              "  <tbody>\n",
              "    <tr>\n",
              "      <th>0</th>\n",
              "      <td>ham</td>\n",
              "      <td>make sure alex knows his birthday is over in f...</td>\n",
              "    </tr>\n",
              "  </tbody>\n",
              "</table>\n",
              "</div>"
            ],
            "text/plain": [
              "  text_type                                               text\n",
              "0       ham  make sure alex knows his birthday is over in f..."
            ]
          },
          "metadata": {},
          "output_type": "display_data"
        },
        {
          "name": "stdout",
          "output_type": "stream",
          "text": [
            "FOLD --> 0\n",
            "0:\ttest: 0.9347275\tbest: 0.9347275 (0)\ttotal: 44.9ms\tremaining: 7m 28s\n",
            "500:\ttest: 0.9862138\tbest: 0.9862297 (472)\ttotal: 27s\tremaining: 8m 32s\n",
            "1000:\ttest: 0.9876760\tbest: 0.9876760 (1000)\ttotal: 53.9s\tremaining: 8m 4s\n",
            "1500:\ttest: 0.9879546\tbest: 0.9879800 (1396)\ttotal: 1m 21s\tremaining: 7m 44s\n",
            "2000:\ttest: 0.9881331\tbest: 0.9881526 (1977)\ttotal: 1m 50s\tremaining: 7m 20s\n",
            "2500:\ttest: 0.9881594\tbest: 0.9881907 (2450)\ttotal: 2m 19s\tremaining: 6m 58s\n",
            "3000:\ttest: 0.9881935\tbest: 0.9881935 (2689)\ttotal: 2m 46s\tremaining: 6m 28s\n",
            "3500:\ttest: 0.9882443\tbest: 0.9882620 (3326)\ttotal: 3m 13s\tremaining: 5m 59s\n",
            "4000:\ttest: 0.9882937\tbest: 0.9883096 (3945)\ttotal: 3m 41s\tremaining: 5m 31s\n",
            "4500:\ttest: 0.9884566\tbest: 0.9884670 (4474)\ttotal: 4m 9s\tremaining: 5m 4s\n",
            "5000:\ttest: 0.9885986\tbest: 0.9886072 (4987)\ttotal: 4m 37s\tremaining: 4m 37s\n",
            "5500:\ttest: 0.9886825\tbest: 0.9886862 (5499)\ttotal: 5m 5s\tremaining: 4m 9s\n",
            "6000:\ttest: 0.9887311\tbest: 0.9887370 (5973)\ttotal: 5m 32s\tremaining: 3m 41s\n",
            "6500:\ttest: 0.9887111\tbest: 0.9887529 (6076)\ttotal: 5m 58s\tremaining: 3m 13s\n",
            "7000:\ttest: 0.9887674\tbest: 0.9887864 (6853)\ttotal: 6m 25s\tremaining: 2m 45s\n",
            "7500:\ttest: 0.9887742\tbest: 0.9888132 (7264)\ttotal: 6m 52s\tremaining: 2m 17s\n",
            "8000:\ttest: 0.9887451\tbest: 0.9888132 (7264)\ttotal: 7m 23s\tremaining: 1m 50s\n",
            "Stopped by overfitting detector  (1000 iterations wait)\n",
            "\n",
            "bestTest = 0.9888131987\n",
            "bestIteration = 7264\n",
            "\n",
            "Shrink model to first 7265 iterations.\n",
            "ROC_AUC for fold 0: 0.9888131986788619\n",
            "\n",
            "\n",
            "FOLD --> 1\n",
            "0:\ttest: 0.9310036\tbest: 0.9310036 (0)\ttotal: 42ms\tremaining: 6m 59s\n",
            "500:\ttest: 0.9837555\tbest: 0.9837555 (500)\ttotal: 28s\tremaining: 8m 51s\n",
            "1000:\ttest: 0.9856521\tbest: 0.9856525 (999)\ttotal: 55.9s\tremaining: 8m 22s\n",
            "1500:\ttest: 0.9861845\tbest: 0.9861877 (1498)\ttotal: 1m 23s\tremaining: 7m 53s\n",
            "2000:\ttest: 0.9865832\tbest: 0.9865832 (2000)\ttotal: 1m 50s\tremaining: 7m 23s\n",
            "2500:\ttest: 0.9868291\tbest: 0.9868337 (2497)\ttotal: 2m 18s\tremaining: 6m 54s\n",
            "3000:\ttest: 0.9869637\tbest: 0.9869747 (2936)\ttotal: 2m 45s\tremaining: 6m 25s\n",
            "3500:\ttest: 0.9871116\tbest: 0.9871116 (3480)\ttotal: 3m 12s\tremaining: 5m 58s\n",
            "4000:\ttest: 0.9873050\tbest: 0.9873096 (3979)\ttotal: 3m 40s\tremaining: 5m 31s\n",
            "4500:\ttest: 0.9874345\tbest: 0.9874538 (4399)\ttotal: 4m 6s\tremaining: 5m 1s\n",
            "5000:\ttest: 0.9875930\tbest: 0.9875958 (4996)\ttotal: 4m 33s\tremaining: 4m 33s\n",
            "5500:\ttest: 0.9876518\tbest: 0.9876527 (5497)\ttotal: 4m 59s\tremaining: 4m 5s\n",
            "6000:\ttest: 0.9877575\tbest: 0.9877598 (5986)\ttotal: 5m 26s\tremaining: 3m 37s\n",
            "6500:\ttest: 0.9878355\tbest: 0.9878443 (6487)\ttotal: 5m 52s\tremaining: 3m 9s\n",
            "7000:\ttest: 0.9878833\tbest: 0.9879462 (6883)\ttotal: 6m 19s\tremaining: 2m 42s\n",
            "7500:\ttest: 0.9880078\tbest: 0.9880174 (7471)\ttotal: 6m 45s\tremaining: 2m 15s\n",
            "8000:\ttest: 0.9880400\tbest: 0.9880468 (7979)\ttotal: 7m 11s\tremaining: 1m 47s\n",
            "8500:\ttest: 0.9880643\tbest: 0.9880726 (8195)\ttotal: 7m 38s\tremaining: 1m 20s\n",
            "9000:\ttest: 0.9880795\tbest: 0.9880845 (8961)\ttotal: 8m 4s\tremaining: 53.7s\n",
            "9500:\ttest: 0.9880840\tbest: 0.9881084 (9214)\ttotal: 8m 30s\tremaining: 26.8s\n",
            "9999:\ttest: 0.9880427\tbest: 0.9881084 (9214)\ttotal: 8m 56s\tremaining: 0us\n",
            "\n",
            "bestTest = 0.9881083949\n",
            "bestIteration = 9214\n",
            "\n",
            "Shrink model to first 9215 iterations.\n",
            "ROC_AUC for fold 1: 0.9881083948847976\n",
            "\n",
            "\n",
            "FOLD --> 2\n",
            "0:\ttest: 0.9317121\tbest: 0.9317121 (0)\ttotal: 40.3ms\tremaining: 6m 43s\n",
            "500:\ttest: 0.9853576\tbest: 0.9853576 (500)\ttotal: 25.9s\tremaining: 8m 11s\n",
            "1000:\ttest: 0.9867750\tbest: 0.9867750 (1000)\ttotal: 52.1s\tremaining: 7m 47s\n",
            "1500:\ttest: 0.9872372\tbest: 0.9872377 (1481)\ttotal: 1m 18s\tremaining: 7m 22s\n",
            "2000:\ttest: 0.9875082\tbest: 0.9875349 (1930)\ttotal: 1m 43s\tremaining: 6m 55s\n",
            "2500:\ttest: 0.9876109\tbest: 0.9876154 (2498)\ttotal: 2m 10s\tremaining: 6m 30s\n",
            "3000:\ttest: 0.9877347\tbest: 0.9877546 (2985)\ttotal: 2m 35s\tremaining: 6m 3s\n",
            "3500:\ttest: 0.9879061\tbest: 0.9879083 (3490)\ttotal: 3m 2s\tremaining: 5m 37s\n",
            "4000:\ttest: 0.9880084\tbest: 0.9880148 (3976)\ttotal: 3m 28s\tremaining: 5m 12s\n",
            "4500:\ttest: 0.9880451\tbest: 0.9880591 (4473)\ttotal: 3m 54s\tremaining: 4m 45s\n",
            "5000:\ttest: 0.9879926\tbest: 0.9880591 (4473)\ttotal: 4m 20s\tremaining: 4m 20s\n",
            "Stopped by overfitting detector  (1000 iterations wait)\n",
            "\n",
            "bestTest = 0.988059074\n",
            "bestIteration = 4473\n",
            "\n",
            "Shrink model to first 4474 iterations.\n",
            "ROC_AUC for fold 2: 0.9880590740188234\n",
            "\n",
            "\n",
            "FOLD --> 3\n",
            "0:\ttest: 0.9126520\tbest: 0.9126520 (0)\ttotal: 39.9ms\tremaining: 6m 39s\n",
            "500:\ttest: 0.9842625\tbest: 0.9842625 (500)\ttotal: 27.3s\tremaining: 8m 37s\n",
            "1000:\ttest: 0.9859291\tbest: 0.9859291 (998)\ttotal: 55.2s\tremaining: 8m 16s\n",
            "1500:\ttest: 0.9866428\tbest: 0.9866492 (1499)\ttotal: 1m 22s\tremaining: 7m 46s\n",
            "2000:\ttest: 0.9869918\tbest: 0.9870212 (1917)\ttotal: 1m 49s\tremaining: 7m 17s\n",
            "2500:\ttest: 0.9872910\tbest: 0.9872910 (2500)\ttotal: 2m 17s\tremaining: 6m 53s\n",
            "3000:\ttest: 0.9874063\tbest: 0.9874077 (2998)\ttotal: 2m 46s\tremaining: 6m 28s\n",
            "3500:\ttest: 0.9875817\tbest: 0.9875845 (3499)\ttotal: 3m 14s\tremaining: 6m\n",
            "4000:\ttest: 0.9878485\tbest: 0.9878536 (3999)\ttotal: 3m 40s\tremaining: 5m 31s\n",
            "4500:\ttest: 0.9879206\tbest: 0.9879271 (4499)\ttotal: 4m 7s\tremaining: 5m 1s\n",
            "5000:\ttest: 0.9879275\tbest: 0.9879422 (4865)\ttotal: 4m 33s\tremaining: 4m 33s\n",
            "5500:\ttest: 0.9880745\tbest: 0.9880828 (5486)\ttotal: 4m 59s\tremaining: 4m 5s\n",
            "6000:\ttest: 0.9880580\tbest: 0.9880906 (5533)\ttotal: 5m 28s\tremaining: 3m 38s\n",
            "6500:\ttest: 0.9881232\tbest: 0.9881480 (6320)\ttotal: 5m 57s\tremaining: 3m 12s\n",
            "7000:\ttest: 0.9881659\tbest: 0.9881682 (6998)\ttotal: 6m 25s\tremaining: 2m 45s\n",
            "7500:\ttest: 0.9881512\tbest: 0.9881838 (7374)\ttotal: 6m 52s\tremaining: 2m 17s\n",
            "8000:\ttest: 0.9881751\tbest: 0.9882012 (7878)\ttotal: 7m 18s\tremaining: 1m 49s\n",
            "8500:\ttest: 0.9881989\tbest: 0.9882146 (8274)\ttotal: 7m 44s\tremaining: 1m 21s\n",
            "9000:\ttest: 0.9881989\tbest: 0.9882146 (8274)\ttotal: 8m 10s\tremaining: 54.5s\n",
            "Stopped by overfitting detector  (1000 iterations wait)\n",
            "\n",
            "bestTest = 0.988214555\n",
            "bestIteration = 8274\n",
            "\n",
            "Shrink model to first 8275 iterations.\n",
            "ROC_AUC for fold 3: 0.9882145550302782\n",
            "\n",
            "\n",
            "FOLD --> 4\n",
            "0:\ttest: 0.9228421\tbest: 0.9228421 (0)\ttotal: 42.2ms\tremaining: 7m 2s\n",
            "500:\ttest: 0.9858131\tbest: 0.9858131 (500)\ttotal: 26.5s\tremaining: 8m 23s\n",
            "1000:\ttest: 0.9873458\tbest: 0.9873854 (988)\ttotal: 53.6s\tremaining: 8m 1s\n",
            "1500:\ttest: 0.9877963\tbest: 0.9878091 (1492)\ttotal: 1m 19s\tremaining: 7m 31s\n",
            "2000:\ttest: 0.9877843\tbest: 0.9878158 (1544)\ttotal: 1m 45s\tremaining: 7m 3s\n",
            "2500:\ttest: 0.9877192\tbest: 0.9878282 (2101)\ttotal: 2m 12s\tremaining: 6m 37s\n",
            "3000:\ttest: 0.9876895\tbest: 0.9878282 (2101)\ttotal: 2m 38s\tremaining: 6m 10s\n",
            "Stopped by overfitting detector  (1000 iterations wait)\n",
            "\n",
            "bestTest = 0.9878281608\n",
            "bestIteration = 2101\n",
            "\n",
            "Shrink model to first 2102 iterations.\n",
            "ROC_AUC for fold 4: 0.9878281608110898\n",
            "\n",
            "\n",
            "ROC_AUC: [0.9888131986788619, 0.9881083948847976, 0.9880590740188234, 0.9882145550302782, 0.9878281608110898]\n",
            "MEAN - STD: 0.9878752434977738\n"
          ]
        }
      ],
      "source": [
        "display(full_train.head(1))\n",
        "\n",
        "seed_everything(SEED)\n",
        "\n",
        "X = full_train[['text']]\n",
        "y = full_train['text_type']\n",
        "\n",
        "params = {\n",
        "    'depth': 6,\n",
        "    'learning_rate': 0.03,\n",
        "    'iterations': 10000,\n",
        "    'eval_metric': 'AUC',\n",
        "    'verbose': 500,\n",
        "    'random_seed': SEED,\n",
        "    'text_features': ['text']\n",
        "}\n",
        "\n",
        "n_splits = 5\n",
        "\n",
        "models = []\n",
        "metrics = []\n",
        "\n",
        "kf = KFold(n_splits=n_splits, random_state=SEED, shuffle=True)\n",
        "\n",
        "for i, (train_index, test_index) in enumerate(kf.split(X)):\n",
        "    print(f'FOLD --> {i}')\n",
        "    X_train, X_test = X.iloc[train_index], X.iloc[test_index]\n",
        "    y_train, y_test = y.iloc[train_index], y.iloc[test_index]\n",
        "\n",
        "    model = CatBoostClassifier(**params)\n",
        "    model.fit(X_train, y_train, eval_set=(X_test, y_test), early_stopping_rounds=1000)\n",
        "    models.append(model)\n",
        "\n",
        "    y_pred = model.predict_proba(X_test)[:, 1]\n",
        "\n",
        "    metric = roc_auc_score(y_test, y_pred)\n",
        "    metrics.append(metric)\n",
        "    print(f\"ROC_AUC for fold {i}: {metric}\\n\\n\")\n",
        "\n",
        "\n",
        "print('ROC_AUC:', metrics)\n",
        "print('MEAN - STD:', np.mean(metrics) - np.std(metrics))\n"
      ]
    },
    {
      "cell_type": "code",
      "execution_count": null,
      "id": "30bc44a3-195a-4e8e-b814-a84a1aca4307",
      "metadata": {
        "id": "30bc44a3-195a-4e8e-b814-a84a1aca4307",
        "outputId": "386b542e-c5d1-4d9b-9f94-26029fbb7139"
      },
      "outputs": [
        {
          "data": {
            "text/html": [
              "<div>\n",
              "<style scoped>\n",
              "    .dataframe tbody tr th:only-of-type {\n",
              "        vertical-align: middle;\n",
              "    }\n",
              "\n",
              "    .dataframe tbody tr th {\n",
              "        vertical-align: top;\n",
              "    }\n",
              "\n",
              "    .dataframe thead th {\n",
              "        text-align: right;\n",
              "    }\n",
              "</style>\n",
              "<table border=\"1\" class=\"dataframe\">\n",
              "  <thead>\n",
              "    <tr style=\"text-align: right;\">\n",
              "      <th></th>\n",
              "      <th>ID</th>\n",
              "      <th>label</th>\n",
              "    </tr>\n",
              "  </thead>\n",
              "  <tbody>\n",
              "    <tr>\n",
              "      <th>0</th>\n",
              "      <td>0</td>\n",
              "      <td>neutral</td>\n",
              "    </tr>\n",
              "    <tr>\n",
              "      <th>1</th>\n",
              "      <td>1</td>\n",
              "      <td>neutral</td>\n",
              "    </tr>\n",
              "    <tr>\n",
              "      <th>2</th>\n",
              "      <td>2</td>\n",
              "      <td>negative</td>\n",
              "    </tr>\n",
              "    <tr>\n",
              "      <th>3</th>\n",
              "      <td>3</td>\n",
              "      <td>positive</td>\n",
              "    </tr>\n",
              "    <tr>\n",
              "      <th>4</th>\n",
              "      <td>4</td>\n",
              "      <td>negative</td>\n",
              "    </tr>\n",
              "    <tr>\n",
              "      <th>...</th>\n",
              "      <td>...</td>\n",
              "      <td>...</td>\n",
              "    </tr>\n",
              "    <tr>\n",
              "      <th>2519</th>\n",
              "      <td>2519</td>\n",
              "      <td>positive</td>\n",
              "    </tr>\n",
              "    <tr>\n",
              "      <th>2520</th>\n",
              "      <td>2520</td>\n",
              "      <td>negative</td>\n",
              "    </tr>\n",
              "    <tr>\n",
              "      <th>2521</th>\n",
              "      <td>2521</td>\n",
              "      <td>positive</td>\n",
              "    </tr>\n",
              "    <tr>\n",
              "      <th>2522</th>\n",
              "      <td>2522</td>\n",
              "      <td>positive</td>\n",
              "    </tr>\n",
              "    <tr>\n",
              "      <th>2523</th>\n",
              "      <td>2523</td>\n",
              "      <td>neutral</td>\n",
              "    </tr>\n",
              "  </tbody>\n",
              "</table>\n",
              "<p>2524 rows × 2 columns</p>\n",
              "</div>"
            ],
            "text/plain": [
              "        ID     label\n",
              "0        0   neutral\n",
              "1        1   neutral\n",
              "2        2  negative\n",
              "3        3  positive\n",
              "4        4  negative\n",
              "...    ...       ...\n",
              "2519  2519  positive\n",
              "2520  2520  negative\n",
              "2521  2521  positive\n",
              "2522  2522  positive\n",
              "2523  2523   neutral\n",
              "\n",
              "[2524 rows x 2 columns]"
            ]
          },
          "execution_count": 59,
          "metadata": {},
          "output_type": "execute_result"
        }
      ],
      "source": [
        "submission = pd.DataFrame()\n",
        "submission['ID'] = test.index\n",
        "submission['label'] = classes\n",
        "\n",
        "submission.to_csv(sub_root + 'catboost_text_features_oof_balanced_clean.csv', index=False)\n",
        "submission"
      ]
    },
    {
      "cell_type": "markdown",
      "id": "4f28d47d-891a-4a61-a6ee-b6426e0ea9cb",
      "metadata": {
        "id": "4f28d47d-891a-4a61-a6ee-b6426e0ea9cb"
      },
      "source": [
        "---"
      ]
    },
    {
      "cell_type": "code",
      "execution_count": null,
      "id": "f3bd9da5-0405-4495-9706-92422dcd8138",
      "metadata": {
        "id": "f3bd9da5-0405-4495-9706-92422dcd8138",
        "outputId": "93195219-d9ff-4c5e-d8e4-7c2c4d8edf20"
      },
      "outputs": [
        {
          "name": "stdout",
          "output_type": "stream",
          "text": [
            "automated_readability_index 5.7\n",
            "avg_character_per_word 4.06\n",
            "avg_letter_per_word 4.06\n",
            "avg_sentence_length 16.0\n",
            "avg_sentence_per_word 0.06\n",
            "avg_syllables_per_word 1.3\n",
            "char_count 65\n",
            "coleman_liau_index 5.97\n",
            "count_arabic_long_words 3\n",
            "count_arabic_syllables 63\n",
            "count_complex_arabic_words 0\n",
            "count_faseeh 0\n",
            "dale_chall_readability_score 7.39\n",
            "dale_chall_readability_score_v2 6.4\n",
            "difficult_words 2\n",
            "flesch_kincaid_grade 6.0\n",
            "flesch_reading_ease 80.62\n",
            "gunning_fog 6.4\n",
            "is_difficult_word True\n",
            "is_easy_word False\n",
            "letter_count 65\n",
            "lexicon_count 16\n",
            "linsear_write_formula 7.0\n",
            "lix 34.75\n",
            "long_word_count 3\n",
            "mcalpine_eflaw 22.0\n",
            "miniword_count 6\n",
            "monosyllabcount 12\n",
            "polysyllabcount 0\n",
            "reading_time 0.95\n",
            "rix 3.0\n",
            "sentence_count 1\n",
            "smog_index 0.0\n",
            "spache_readability 4.17\n",
            "syllable_count 20\n",
            "words_per_sentence 16.0\n"
          ]
        }
      ],
      "source": [
        "meth_ignore_list = ['set_lang',  # Not appropriate\n",
        "                    # 'dale_chall_readability_score', # Fails inference\n",
        "                    # 'dale_chall_readability_score_v2', # Fails inference\n",
        "                    # 'difficult_words', # Fails inference\n",
        "                    # 'gunning_fog', # Fails inference\n",
        "                    'fernandez_huerta', 'szigriszt_pazos', 'gutierrez_polini', 'crawford', 'osman', 'gulpease_index', 'wiener_sachtextformel']\n",
        "good_methods: dict[str, Callable] = {}\n",
        "\n",
        "for meth_name in dir(textstat):\n",
        "    # print(meth_name)\n",
        "    if not meth_name.startswith('__') and meth_name not in meth_ignore_list:\n",
        "        meth = getattr(textstat, meth_name)\n",
        "        if isinstance(meth, Callable):\n",
        "            try:\n",
        "                res = meth(full_train.text.iloc[0])\n",
        "                if isinstance(res, (int, float, bool)):\n",
        "                    print(meth_name, res)\n",
        "                    good_methods[meth_name] = meth\n",
        "            except Exception as e:\n",
        "                print(e)\n",
        "                raise e"
      ]
    },
    {
      "cell_type": "code",
      "execution_count": null,
      "id": "5d2f0901-71b8-43a2-b1e6-a717398c08ca",
      "metadata": {
        "id": "5d2f0901-71b8-43a2-b1e6-a717398c08ca"
      },
      "outputs": [],
      "source": [
        "def apply_textstat(text, meth):\n",
        "    try:\n",
        "        res = meth(text)\n",
        "    except OSError:\n",
        "        return None\n",
        "    return res"
      ]
    },
    {
      "cell_type": "code",
      "execution_count": null,
      "id": "ed678a61-027a-4623-be45-abc3c877a38b",
      "metadata": {
        "colab": {
          "referenced_widgets": [
            "fbfad72de94049b79d061f26c27823d3",
            "c1e2aefdd00d48e781eb5eed269efd6e"
          ]
        },
        "id": "ed678a61-027a-4623-be45-abc3c877a38b",
        "outputId": "be278ebd-c0aa-489f-a430-4817f5df4021"
      },
      "outputs": [
        {
          "data": {
            "application/vnd.jupyter.widget-view+json": {
              "model_id": "fbfad72de94049b79d061f26c27823d3",
              "version_major": 2,
              "version_minor": 0
            },
            "text/plain": [
              "  0%|          | 0/36 [00:00<?, ?it/s]"
            ]
          },
          "metadata": {},
          "output_type": "display_data"
        },
        {
          "data": {
            "application/vnd.jupyter.widget-view+json": {
              "model_id": "c1e2aefdd00d48e781eb5eed269efd6e",
              "version_major": 2,
              "version_minor": 0
            },
            "text/plain": [
              "  0%|          | 0/36 [00:00<?, ?it/s]"
            ]
          },
          "metadata": {},
          "output_type": "display_data"
        }
      ],
      "source": [
        "for meth_name, meth in tqdm(good_methods.items()):\n",
        "    full_train[meth_name] = full_train['text'].apply(apply_textstat, args=(meth,))\n",
        "for meth_name, meth in tqdm(good_methods.items()):\n",
        "    test[meth_name] = test['text'].apply(apply_textstat, args=(meth,))\n"
      ]
    },
    {
      "cell_type": "code",
      "execution_count": null,
      "id": "2a928aa4-37ea-4b8e-95e7-97bc125dcdc9",
      "metadata": {
        "id": "2a928aa4-37ea-4b8e-95e7-97bc125dcdc9",
        "outputId": "0595f583-99db-48b1-c850-7f6a69e6b9e6"
      },
      "outputs": [
        {
          "data": {
            "text/html": [
              "<div>\n",
              "<style scoped>\n",
              "    .dataframe tbody tr th:only-of-type {\n",
              "        vertical-align: middle;\n",
              "    }\n",
              "\n",
              "    .dataframe tbody tr th {\n",
              "        vertical-align: top;\n",
              "    }\n",
              "\n",
              "    .dataframe thead th {\n",
              "        text-align: right;\n",
              "    }\n",
              "</style>\n",
              "<table border=\"1\" class=\"dataframe\">\n",
              "  <thead>\n",
              "    <tr style=\"text-align: right;\">\n",
              "      <th></th>\n",
              "      <th>text_type</th>\n",
              "      <th>text</th>\n",
              "      <th>automated_readability_index</th>\n",
              "      <th>avg_character_per_word</th>\n",
              "      <th>avg_letter_per_word</th>\n",
              "      <th>avg_sentence_length</th>\n",
              "      <th>avg_sentence_per_word</th>\n",
              "      <th>avg_syllables_per_word</th>\n",
              "      <th>char_count</th>\n",
              "      <th>coleman_liau_index</th>\n",
              "      <th>...</th>\n",
              "      <th>miniword_count</th>\n",
              "      <th>monosyllabcount</th>\n",
              "      <th>polysyllabcount</th>\n",
              "      <th>reading_time</th>\n",
              "      <th>rix</th>\n",
              "      <th>sentence_count</th>\n",
              "      <th>smog_index</th>\n",
              "      <th>spache_readability</th>\n",
              "      <th>syllable_count</th>\n",
              "      <th>words_per_sentence</th>\n",
              "    </tr>\n",
              "  </thead>\n",
              "  <tbody>\n",
              "    <tr>\n",
              "      <th>0</th>\n",
              "      <td>ham</td>\n",
              "      <td>make sure alex know his birthday is over in fi...</td>\n",
              "      <td>5.7</td>\n",
              "      <td>4.06</td>\n",
              "      <td>4.06</td>\n",
              "      <td>16.0</td>\n",
              "      <td>0.06</td>\n",
              "      <td>1.3</td>\n",
              "      <td>65</td>\n",
              "      <td>5.97</td>\n",
              "      <td>...</td>\n",
              "      <td>6</td>\n",
              "      <td>12</td>\n",
              "      <td>0</td>\n",
              "      <td>0.95</td>\n",
              "      <td>3.0</td>\n",
              "      <td>1</td>\n",
              "      <td>0.0</td>\n",
              "      <td>4.17</td>\n",
              "      <td>20</td>\n",
              "      <td>16.0</td>\n",
              "    </tr>\n",
              "    <tr>\n",
              "      <th>1</th>\n",
              "      <td>ham</td>\n",
              "      <td>a resum for john lavorato thank vinc i will ge...</td>\n",
              "      <td>45.8</td>\n",
              "      <td>3.98</td>\n",
              "      <td>3.98</td>\n",
              "      <td>97.0</td>\n",
              "      <td>0.01</td>\n",
              "      <td>1.4</td>\n",
              "      <td>386</td>\n",
              "      <td>6.99</td>\n",
              "      <td>...</td>\n",
              "      <td>41</td>\n",
              "      <td>76</td>\n",
              "      <td>10</td>\n",
              "      <td>5.67</td>\n",
              "      <td>12.0</td>\n",
              "      <td>1</td>\n",
              "      <td>0.0</td>\n",
              "      <td>15.58</td>\n",
              "      <td>131</td>\n",
              "      <td>97.0</td>\n",
              "    </tr>\n",
              "    <tr>\n",
              "      <th>2</th>\n",
              "      <td>spam</td>\n",
              "      <td>plzz visit my websit moviesgodml to get all mo...</td>\n",
              "      <td>10.5</td>\n",
              "      <td>4.45</td>\n",
              "      <td>4.27</td>\n",
              "      <td>22.0</td>\n",
              "      <td>0.05</td>\n",
              "      <td>1.4</td>\n",
              "      <td>98</td>\n",
              "      <td>7.49</td>\n",
              "      <td>...</td>\n",
              "      <td>10</td>\n",
              "      <td>15</td>\n",
              "      <td>1</td>\n",
              "      <td>1.44</td>\n",
              "      <td>3.0</td>\n",
              "      <td>1</td>\n",
              "      <td>0.0</td>\n",
              "      <td>5.50</td>\n",
              "      <td>30</td>\n",
              "      <td>22.0</td>\n",
              "    </tr>\n",
              "    <tr>\n",
              "      <th>3</th>\n",
              "      <td>spam</td>\n",
              "      <td>urgent your mobil number has been award with a...</td>\n",
              "      <td>13.0</td>\n",
              "      <td>4.87</td>\n",
              "      <td>4.83</td>\n",
              "      <td>23.0</td>\n",
              "      <td>0.04</td>\n",
              "      <td>1.2</td>\n",
              "      <td>112</td>\n",
              "      <td>11.03</td>\n",
              "      <td>...</td>\n",
              "      <td>2</td>\n",
              "      <td>18</td>\n",
              "      <td>0</td>\n",
              "      <td>1.65</td>\n",
              "      <td>2.0</td>\n",
              "      <td>1</td>\n",
              "      <td>0.0</td>\n",
              "      <td>5.58</td>\n",
              "      <td>28</td>\n",
              "      <td>23.0</td>\n",
              "    </tr>\n",
              "    <tr>\n",
              "      <th>4</th>\n",
              "      <td>ham</td>\n",
              "      <td>overview of hr associ analyst project per davi...</td>\n",
              "      <td>62.9</td>\n",
              "      <td>4.43</td>\n",
              "      <td>4.43</td>\n",
              "      <td>127.0</td>\n",
              "      <td>0.01</td>\n",
              "      <td>1.4</td>\n",
              "      <td>563</td>\n",
              "      <td>9.60</td>\n",
              "      <td>...</td>\n",
              "      <td>46</td>\n",
              "      <td>76</td>\n",
              "      <td>5</td>\n",
              "      <td>8.27</td>\n",
              "      <td>21.0</td>\n",
              "      <td>1</td>\n",
              "      <td>0.0</td>\n",
              "      <td>20.64</td>\n",
              "      <td>183</td>\n",
              "      <td>127.0</td>\n",
              "    </tr>\n",
              "    <tr>\n",
              "      <th>...</th>\n",
              "      <td>...</td>\n",
              "      <td>...</td>\n",
              "      <td>...</td>\n",
              "      <td>...</td>\n",
              "      <td>...</td>\n",
              "      <td>...</td>\n",
              "      <td>...</td>\n",
              "      <td>...</td>\n",
              "      <td>...</td>\n",
              "      <td>...</td>\n",
              "      <td>...</td>\n",
              "      <td>...</td>\n",
              "      <td>...</td>\n",
              "      <td>...</td>\n",
              "      <td>...</td>\n",
              "      <td>...</td>\n",
              "      <td>...</td>\n",
              "      <td>...</td>\n",
              "      <td>...</td>\n",
              "      <td>...</td>\n",
              "      <td>...</td>\n",
              "    </tr>\n",
              "    <tr>\n",
              "      <th>16273</th>\n",
              "      <td>spam</td>\n",
              "      <td>if you are interest in binari option trade so ...</td>\n",
              "      <td>9.1</td>\n",
              "      <td>4.47</td>\n",
              "      <td>4.42</td>\n",
              "      <td>19.0</td>\n",
              "      <td>0.05</td>\n",
              "      <td>1.4</td>\n",
              "      <td>85</td>\n",
              "      <td>8.36</td>\n",
              "      <td>...</td>\n",
              "      <td>9</td>\n",
              "      <td>13</td>\n",
              "      <td>2</td>\n",
              "      <td>1.25</td>\n",
              "      <td>4.0</td>\n",
              "      <td>1</td>\n",
              "      <td>0.0</td>\n",
              "      <td>5.78</td>\n",
              "      <td>27</td>\n",
              "      <td>19.0</td>\n",
              "    </tr>\n",
              "    <tr>\n",
              "      <th>16274</th>\n",
              "      <td>spam</td>\n",
              "      <td>dirti pictureblyk on aircel thank you for be a...</td>\n",
              "      <td>36.7</td>\n",
              "      <td>4.60</td>\n",
              "      <td>4.59</td>\n",
              "      <td>73.0</td>\n",
              "      <td>0.01</td>\n",
              "      <td>1.4</td>\n",
              "      <td>336</td>\n",
              "      <td>10.53</td>\n",
              "      <td>...</td>\n",
              "      <td>26</td>\n",
              "      <td>49</td>\n",
              "      <td>2</td>\n",
              "      <td>4.94</td>\n",
              "      <td>9.0</td>\n",
              "      <td>1</td>\n",
              "      <td>0.0</td>\n",
              "      <td>13.37</td>\n",
              "      <td>99</td>\n",
              "      <td>73.0</td>\n",
              "    </tr>\n",
              "    <tr>\n",
              "      <th>16275</th>\n",
              "      <td>ham</td>\n",
              "      <td>or you could do this g on mon 1635465 sep 1635...</td>\n",
              "      <td>74.6</td>\n",
              "      <td>4.04</td>\n",
              "      <td>4.04</td>\n",
              "      <td>154.0</td>\n",
              "      <td>0.01</td>\n",
              "      <td>1.2</td>\n",
              "      <td>622</td>\n",
              "      <td>7.34</td>\n",
              "      <td>...</td>\n",
              "      <td>68</td>\n",
              "      <td>130</td>\n",
              "      <td>6</td>\n",
              "      <td>9.14</td>\n",
              "      <td>25.0</td>\n",
              "      <td>1</td>\n",
              "      <td>0.0</td>\n",
              "      <td>23.56</td>\n",
              "      <td>187</td>\n",
              "      <td>154.0</td>\n",
              "    </tr>\n",
              "    <tr>\n",
              "      <th>16276</th>\n",
              "      <td>ham</td>\n",
              "      <td>insta reel par 80 गंद bhara pada hai 👀 kuch bh...</td>\n",
              "      <td>6.4</td>\n",
              "      <td>3.89</td>\n",
              "      <td>3.74</td>\n",
              "      <td>19.0</td>\n",
              "      <td>0.05</td>\n",
              "      <td>1.2</td>\n",
              "      <td>74</td>\n",
              "      <td>4.41</td>\n",
              "      <td>...</td>\n",
              "      <td>9</td>\n",
              "      <td>16</td>\n",
              "      <td>1</td>\n",
              "      <td>1.09</td>\n",
              "      <td>0.0</td>\n",
              "      <td>1</td>\n",
              "      <td>0.0</td>\n",
              "      <td>4.88</td>\n",
              "      <td>23</td>\n",
              "      <td>19.0</td>\n",
              "    </tr>\n",
              "    <tr>\n",
              "      <th>16277</th>\n",
              "      <td>ham</td>\n",
              "      <td>alex s paper comment 1 in the sentenc between ...</td>\n",
              "      <td>66.7</td>\n",
              "      <td>3.85</td>\n",
              "      <td>3.85</td>\n",
              "      <td>140.0</td>\n",
              "      <td>0.01</td>\n",
              "      <td>1.3</td>\n",
              "      <td>539</td>\n",
              "      <td>6.23</td>\n",
              "      <td>...</td>\n",
              "      <td>66</td>\n",
              "      <td>104</td>\n",
              "      <td>8</td>\n",
              "      <td>7.92</td>\n",
              "      <td>13.0</td>\n",
              "      <td>1</td>\n",
              "      <td>0.0</td>\n",
              "      <td>21.99</td>\n",
              "      <td>185</td>\n",
              "      <td>140.0</td>\n",
              "    </tr>\n",
              "  </tbody>\n",
              "</table>\n",
              "<p>16278 rows × 38 columns</p>\n",
              "</div>"
            ],
            "text/plain": [
              "      text_type                                               text  \\\n",
              "0           ham  make sure alex know his birthday is over in fi...   \n",
              "1           ham  a resum for john lavorato thank vinc i will ge...   \n",
              "2          spam  plzz visit my websit moviesgodml to get all mo...   \n",
              "3          spam  urgent your mobil number has been award with a...   \n",
              "4           ham  overview of hr associ analyst project per davi...   \n",
              "...         ...                                                ...   \n",
              "16273      spam  if you are interest in binari option trade so ...   \n",
              "16274      spam  dirti pictureblyk on aircel thank you for be a...   \n",
              "16275       ham  or you could do this g on mon 1635465 sep 1635...   \n",
              "16276       ham  insta reel par 80 गंद bhara pada hai 👀 kuch bh...   \n",
              "16277       ham  alex s paper comment 1 in the sentenc between ...   \n",
              "\n",
              "       automated_readability_index  avg_character_per_word  \\\n",
              "0                              5.7                    4.06   \n",
              "1                             45.8                    3.98   \n",
              "2                             10.5                    4.45   \n",
              "3                             13.0                    4.87   \n",
              "4                             62.9                    4.43   \n",
              "...                            ...                     ...   \n",
              "16273                          9.1                    4.47   \n",
              "16274                         36.7                    4.60   \n",
              "16275                         74.6                    4.04   \n",
              "16276                          6.4                    3.89   \n",
              "16277                         66.7                    3.85   \n",
              "\n",
              "       avg_letter_per_word  avg_sentence_length  avg_sentence_per_word  \\\n",
              "0                     4.06                 16.0                   0.06   \n",
              "1                     3.98                 97.0                   0.01   \n",
              "2                     4.27                 22.0                   0.05   \n",
              "3                     4.83                 23.0                   0.04   \n",
              "4                     4.43                127.0                   0.01   \n",
              "...                    ...                  ...                    ...   \n",
              "16273                 4.42                 19.0                   0.05   \n",
              "16274                 4.59                 73.0                   0.01   \n",
              "16275                 4.04                154.0                   0.01   \n",
              "16276                 3.74                 19.0                   0.05   \n",
              "16277                 3.85                140.0                   0.01   \n",
              "\n",
              "       avg_syllables_per_word  char_count  coleman_liau_index  ...  \\\n",
              "0                         1.3          65                5.97  ...   \n",
              "1                         1.4         386                6.99  ...   \n",
              "2                         1.4          98                7.49  ...   \n",
              "3                         1.2         112               11.03  ...   \n",
              "4                         1.4         563                9.60  ...   \n",
              "...                       ...         ...                 ...  ...   \n",
              "16273                     1.4          85                8.36  ...   \n",
              "16274                     1.4         336               10.53  ...   \n",
              "16275                     1.2         622                7.34  ...   \n",
              "16276                     1.2          74                4.41  ...   \n",
              "16277                     1.3         539                6.23  ...   \n",
              "\n",
              "       miniword_count  monosyllabcount  polysyllabcount  reading_time   rix  \\\n",
              "0                   6               12                0          0.95   3.0   \n",
              "1                  41               76               10          5.67  12.0   \n",
              "2                  10               15                1          1.44   3.0   \n",
              "3                   2               18                0          1.65   2.0   \n",
              "4                  46               76                5          8.27  21.0   \n",
              "...               ...              ...              ...           ...   ...   \n",
              "16273               9               13                2          1.25   4.0   \n",
              "16274              26               49                2          4.94   9.0   \n",
              "16275              68              130                6          9.14  25.0   \n",
              "16276               9               16                1          1.09   0.0   \n",
              "16277              66              104                8          7.92  13.0   \n",
              "\n",
              "       sentence_count  smog_index  spache_readability  syllable_count  \\\n",
              "0                   1         0.0                4.17              20   \n",
              "1                   1         0.0               15.58             131   \n",
              "2                   1         0.0                5.50              30   \n",
              "3                   1         0.0                5.58              28   \n",
              "4                   1         0.0               20.64             183   \n",
              "...               ...         ...                 ...             ...   \n",
              "16273               1         0.0                5.78              27   \n",
              "16274               1         0.0               13.37              99   \n",
              "16275               1         0.0               23.56             187   \n",
              "16276               1         0.0                4.88              23   \n",
              "16277               1         0.0               21.99             185   \n",
              "\n",
              "       words_per_sentence  \n",
              "0                    16.0  \n",
              "1                    97.0  \n",
              "2                    22.0  \n",
              "3                    23.0  \n",
              "4                   127.0  \n",
              "...                   ...  \n",
              "16273                19.0  \n",
              "16274                73.0  \n",
              "16275               154.0  \n",
              "16276                19.0  \n",
              "16277               140.0  \n",
              "\n",
              "[16278 rows x 38 columns]"
            ]
          },
          "execution_count": 51,
          "metadata": {},
          "output_type": "execute_result"
        }
      ],
      "source": [
        "full_train"
      ]
    },
    {
      "cell_type": "code",
      "execution_count": null,
      "id": "abfc929b-9166-47d4-975d-423cbf074f29",
      "metadata": {
        "id": "abfc929b-9166-47d4-975d-423cbf074f29",
        "outputId": "8f10efb2-e542-490a-bb25-bde9bba885c2"
      },
      "outputs": [
        {
          "name": "stdout",
          "output_type": "stream",
          "text": [
            "34 features\n"
          ]
        },
        {
          "ename": "IndexError",
          "evalue": "index 38 is out of bounds for axis 0 with size 38",
          "output_type": "error",
          "traceback": [
            "\u001b[1;31m---------------------------------------------------------------------------\u001b[0m",
            "\u001b[1;31mIndexError\u001b[0m                                Traceback (most recent call last)",
            "Cell \u001b[1;32mIn[81], line 25\u001b[0m\n\u001b[0;32m     13\u001b[0m     \u001b[38;5;66;03m# axes[i // 2][0].set_title(_X_train.columns[3+i])\u001b[39;00m\n\u001b[0;32m     15\u001b[0m     sns\u001b[38;5;241m.\u001b[39mhistplot(\n\u001b[0;32m     16\u001b[0m         full_train,\n\u001b[0;32m     17\u001b[0m         x\u001b[38;5;241m=\u001b[39mfull_train\u001b[38;5;241m.\u001b[39mcolumns[\u001b[38;5;241m3\u001b[39m\u001b[38;5;241m+\u001b[39mi\u001b[38;5;241m+\u001b[39m\u001b[38;5;241m1\u001b[39m],\n\u001b[0;32m     18\u001b[0m         hue\u001b[38;5;241m=\u001b[39m\u001b[38;5;124m'\u001b[39m\u001b[38;5;124mtext_type\u001b[39m\u001b[38;5;124m'\u001b[39m,\n\u001b[0;32m     19\u001b[0m         ax\u001b[38;5;241m=\u001b[39maxes[i \u001b[38;5;241m/\u001b[39m\u001b[38;5;241m/\u001b[39m \u001b[38;5;241m3\u001b[39m][\u001b[38;5;241m1\u001b[39m]\n\u001b[0;32m     20\u001b[0m     )\n\u001b[0;32m     23\u001b[0m     sns\u001b[38;5;241m.\u001b[39mhistplot(\n\u001b[0;32m     24\u001b[0m         full_train,\n\u001b[1;32m---> 25\u001b[0m         x\u001b[38;5;241m=\u001b[39m\u001b[43mfull_train\u001b[49m\u001b[38;5;241;43m.\u001b[39;49m\u001b[43mcolumns\u001b[49m\u001b[43m[\u001b[49m\u001b[38;5;241;43m3\u001b[39;49m\u001b[38;5;241;43m+\u001b[39;49m\u001b[43mi\u001b[49m\u001b[38;5;241;43m+\u001b[39;49m\u001b[38;5;241;43m2\u001b[39;49m\u001b[43m]\u001b[49m,\n\u001b[0;32m     26\u001b[0m         hue\u001b[38;5;241m=\u001b[39m\u001b[38;5;124m'\u001b[39m\u001b[38;5;124mtext_type\u001b[39m\u001b[38;5;124m'\u001b[39m,\n\u001b[0;32m     27\u001b[0m         ax\u001b[38;5;241m=\u001b[39maxes[i \u001b[38;5;241m/\u001b[39m\u001b[38;5;241m/\u001b[39m \u001b[38;5;241m3\u001b[39m][\u001b[38;5;241m2\u001b[39m]\n\u001b[0;32m     28\u001b[0m     )\n\u001b[0;32m     29\u001b[0m     \u001b[38;5;66;03m# axes[i // 2][1].set_title(_X_train.columns[3+i+1])\u001b[39;00m\n\u001b[0;32m     30\u001b[0m plt\u001b[38;5;241m.\u001b[39mtight_layout()\n",
            "File \u001b[1;32mD:\\ProgramData\\anaconda3\\envs\\kaggle\\lib\\site-packages\\pandas\\core\\indexes\\base.py:5365\u001b[0m, in \u001b[0;36mIndex.__getitem__\u001b[1;34m(self, key)\u001b[0m\n\u001b[0;32m   5362\u001b[0m \u001b[38;5;28;01mif\u001b[39;00m is_integer(key) \u001b[38;5;129;01mor\u001b[39;00m is_float(key):\n\u001b[0;32m   5363\u001b[0m     \u001b[38;5;66;03m# GH#44051 exclude bool, which would return a 2d ndarray\u001b[39;00m\n\u001b[0;32m   5364\u001b[0m     key \u001b[38;5;241m=\u001b[39m com\u001b[38;5;241m.\u001b[39mcast_scalar_indexer(key)\n\u001b[1;32m-> 5365\u001b[0m     \u001b[38;5;28;01mreturn\u001b[39;00m \u001b[43mgetitem\u001b[49m\u001b[43m(\u001b[49m\u001b[43mkey\u001b[49m\u001b[43m)\u001b[49m\n\u001b[0;32m   5367\u001b[0m \u001b[38;5;28;01mif\u001b[39;00m \u001b[38;5;28misinstance\u001b[39m(key, \u001b[38;5;28mslice\u001b[39m):\n\u001b[0;32m   5368\u001b[0m     \u001b[38;5;66;03m# This case is separated from the conditional above to avoid\u001b[39;00m\n\u001b[0;32m   5369\u001b[0m     \u001b[38;5;66;03m# pessimization com.is_bool_indexer and ndim checks.\u001b[39;00m\n\u001b[0;32m   5370\u001b[0m     \u001b[38;5;28;01mreturn\u001b[39;00m \u001b[38;5;28mself\u001b[39m\u001b[38;5;241m.\u001b[39m_getitem_slice(key)\n",
            "\u001b[1;31mIndexError\u001b[0m: index 38 is out of bounds for axis 0 with size 38"
          ]
        },
        {
          "data": {
            "image/png": "[encoded data removed]",
            "text/plain": [
              "<Figure size 1500x4000 with 36 Axes>"
            ]
          },
          "metadata": {},
          "output_type": "display_data"
        }
      ],
      "source": [
        "fig, axes = plt.subplots(12, 3, figsize=(15, 40))\n",
        "\n",
        "print(len(full_train.columns[3:-1]), 'features')\n",
        "\n",
        "for i in range(0, len(full_train.columns[3:-1]), 3):\n",
        "    sns.histplot(\n",
        "        full_train,\n",
        "        x=full_train.columns[3+i],\n",
        "        hue='text_type',\n",
        "        ax=axes[i // 3][0],\n",
        "\n",
        "    )\n",
        "    # axes[i // 2][0].set_title(_X_train.columns[3+i])\n",
        "\n",
        "    sns.histplot(\n",
        "        full_train,\n",
        "        x=full_train.columns[3+i+1],\n",
        "        hue='text_type',\n",
        "        ax=axes[i // 3][1]\n",
        "    )\n",
        "\n",
        "\n",
        "    sns.histplot(\n",
        "        full_train,\n",
        "        x=full_train.columns[3+i+2],\n",
        "        hue='text_type',\n",
        "        ax=axes[i // 3][2]\n",
        "    )\n",
        "plt.tight_layout()"
      ]
    },
    {
      "cell_type": "code",
      "execution_count": null,
      "id": "41446cc5-2ade-49b4-a66d-3064eca271dc",
      "metadata": {
        "scrolled": true,
        "id": "41446cc5-2ade-49b4-a66d-3064eca271dc",
        "outputId": "dd8a5290-23a3-44c1-cda4-5309099d9513"
      },
      "outputs": [
        {
          "data": {
            "text/html": [
              "<div>\n",
              "<style scoped>\n",
              "    .dataframe tbody tr th:only-of-type {\n",
              "        vertical-align: middle;\n",
              "    }\n",
              "\n",
              "    .dataframe tbody tr th {\n",
              "        vertical-align: top;\n",
              "    }\n",
              "\n",
              "    .dataframe thead th {\n",
              "        text-align: right;\n",
              "    }\n",
              "</style>\n",
              "<table border=\"1\" class=\"dataframe\">\n",
              "  <thead>\n",
              "    <tr style=\"text-align: right;\">\n",
              "      <th></th>\n",
              "      <th>text_type</th>\n",
              "      <th>text</th>\n",
              "      <th>automated_readability_index</th>\n",
              "      <th>avg_character_per_word</th>\n",
              "      <th>avg_letter_per_word</th>\n",
              "      <th>avg_sentence_length</th>\n",
              "      <th>avg_sentence_per_word</th>\n",
              "      <th>avg_syllables_per_word</th>\n",
              "      <th>char_count</th>\n",
              "      <th>coleman_liau_index</th>\n",
              "      <th>...</th>\n",
              "      <th>miniword_count</th>\n",
              "      <th>monosyllabcount</th>\n",
              "      <th>polysyllabcount</th>\n",
              "      <th>reading_time</th>\n",
              "      <th>rix</th>\n",
              "      <th>sentence_count</th>\n",
              "      <th>smog_index</th>\n",
              "      <th>spache_readability</th>\n",
              "      <th>syllable_count</th>\n",
              "      <th>words_per_sentence</th>\n",
              "    </tr>\n",
              "  </thead>\n",
              "  <tbody>\n",
              "    <tr>\n",
              "      <th>0</th>\n",
              "      <td>ham</td>\n",
              "      <td>make sure alex know his birthday is over in fi...</td>\n",
              "      <td>5.7</td>\n",
              "      <td>4.06</td>\n",
              "      <td>4.06</td>\n",
              "      <td>16.0</td>\n",
              "      <td>0.06</td>\n",
              "      <td>1.3</td>\n",
              "      <td>65</td>\n",
              "      <td>5.97</td>\n",
              "      <td>...</td>\n",
              "      <td>6</td>\n",
              "      <td>12</td>\n",
              "      <td>0</td>\n",
              "      <td>0.95</td>\n",
              "      <td>3.0</td>\n",
              "      <td>1</td>\n",
              "      <td>0.0</td>\n",
              "      <td>4.17</td>\n",
              "      <td>20</td>\n",
              "      <td>16.0</td>\n",
              "    </tr>\n",
              "  </tbody>\n",
              "</table>\n",
              "<p>1 rows × 38 columns</p>\n",
              "</div>"
            ],
            "text/plain": [
              "  text_type                                               text  \\\n",
              "0       ham  make sure alex know his birthday is over in fi...   \n",
              "\n",
              "   automated_readability_index  avg_character_per_word  avg_letter_per_word  \\\n",
              "0                          5.7                    4.06                 4.06   \n",
              "\n",
              "   avg_sentence_length  avg_sentence_per_word  avg_syllables_per_word  \\\n",
              "0                 16.0                   0.06                     1.3   \n",
              "\n",
              "   char_count  coleman_liau_index  ...  miniword_count  monosyllabcount  \\\n",
              "0          65                5.97  ...               6               12   \n",
              "\n",
              "   polysyllabcount  reading_time  rix  sentence_count  smog_index  \\\n",
              "0                0          0.95  3.0               1         0.0   \n",
              "\n",
              "   spache_readability  syllable_count  words_per_sentence  \n",
              "0                4.17              20                16.0  \n",
              "\n",
              "[1 rows x 38 columns]"
            ]
          },
          "metadata": {},
          "output_type": "display_data"
        },
        {
          "name": "stdout",
          "output_type": "stream",
          "text": [
            "FOLD --> 0\n",
            "0:\ttest: 0.9349326\tbest: 0.9349326 (0)\ttotal: 42ms\tremaining: 6m 59s\n",
            "500:\ttest: 0.9897214\tbest: 0.9897278 (496)\ttotal: 27.4s\tremaining: 8m 39s\n",
            "1000:\ttest: 0.9908208\tbest: 0.9908291 (990)\ttotal: 55.1s\tremaining: 8m 15s\n",
            "1500:\ttest: 0.9912853\tbest: 0.9912867 (1497)\ttotal: 1m 22s\tremaining: 7m 48s\n",
            "2000:\ttest: 0.9915314\tbest: 0.9915374 (1998)\ttotal: 1m 50s\tremaining: 7m 21s\n",
            "2500:\ttest: 0.9917213\tbest: 0.9917226 (2499)\ttotal: 2m 17s\tremaining: 6m 51s\n",
            "3000:\ttest: 0.9919240\tbest: 0.9919318 (2990)\ttotal: 2m 44s\tremaining: 6m 24s\n",
            "3500:\ttest: 0.9920880\tbest: 0.9920940 (3490)\ttotal: 3m 12s\tremaining: 5m 57s\n",
            "4000:\ttest: 0.9922318\tbest: 0.9922318 (4000)\ttotal: 3m 40s\tremaining: 5m 30s\n",
            "4500:\ttest: 0.9922862\tbest: 0.9922885 (4497)\ttotal: 4m 8s\tremaining: 5m 3s\n",
            "5000:\ttest: 0.9923489\tbest: 0.9923489 (5000)\ttotal: 4m 35s\tremaining: 4m 34s\n",
            "5500:\ttest: 0.9923719\tbest: 0.9923774 (5448)\ttotal: 5m 3s\tremaining: 4m 8s\n",
            "6000:\ttest: 0.9923839\tbest: 0.9923862 (5597)\ttotal: 5m 30s\tremaining: 3m 40s\n",
            "6500:\ttest: 0.9924203\tbest: 0.9924263 (6372)\ttotal: 5m 57s\tremaining: 3m 12s\n",
            "7000:\ttest: 0.9924677\tbest: 0.9924756 (6984)\ttotal: 6m 26s\tremaining: 2m 45s\n",
            "7500:\ttest: 0.9925180\tbest: 0.9925184 (7434)\ttotal: 6m 53s\tremaining: 2m 17s\n",
            "8000:\ttest: 0.9925359\tbest: 0.9925359 (7997)\ttotal: 7m 22s\tremaining: 1m 50s\n",
            "8500:\ttest: 0.9925419\tbest: 0.9925429 (8196)\ttotal: 7m 48s\tremaining: 1m 22s\n",
            "Stopped by overfitting detector  (500 iterations wait)\n",
            "\n",
            "bestTest = 0.9925428602\n",
            "bestIteration = 8196\n",
            "\n",
            "Shrink model to first 8197 iterations.\n",
            "ROC_AUC for fold 0: 0.9925428602368055\n",
            "\n",
            "\n",
            "FOLD --> 1\n",
            "0:\ttest: 0.9413950\tbest: 0.9413950 (0)\ttotal: 44.4ms\tremaining: 7m 23s\n",
            "500:\ttest: 0.9914245\tbest: 0.9914290 (495)\ttotal: 28.5s\tremaining: 9m\n",
            "1000:\ttest: 0.9923323\tbest: 0.9923323 (1000)\ttotal: 55.5s\tremaining: 8m 19s\n",
            "1500:\ttest: 0.9925803\tbest: 0.9926006 (1475)\ttotal: 1m 22s\tremaining: 7m 48s\n",
            "2000:\ttest: 0.9925528\tbest: 0.9926047 (1545)\ttotal: 1m 50s\tremaining: 7m 21s\n",
            "Stopped by overfitting detector  (500 iterations wait)\n",
            "\n",
            "bestTest = 0.9926046937\n",
            "bestIteration = 1545\n",
            "\n",
            "Shrink model to first 1546 iterations.\n",
            "ROC_AUC for fold 1: 0.9926046937431791\n",
            "\n",
            "\n",
            "FOLD --> 2\n",
            "0:\ttest: 0.9452004\tbest: 0.9452004 (0)\ttotal: 41.5ms\tremaining: 6m 55s\n",
            "500:\ttest: 0.9920925\tbest: 0.9920925 (500)\ttotal: 29.2s\tremaining: 9m 13s\n",
            "1000:\ttest: 0.9927043\tbest: 0.9927062 (998)\ttotal: 57.7s\tremaining: 8m 38s\n",
            "1500:\ttest: 0.9928953\tbest: 0.9929217 (1326)\ttotal: 1m 25s\tremaining: 8m 3s\n",
            "2000:\ttest: 0.9931952\tbest: 0.9932067 (1988)\ttotal: 1m 52s\tremaining: 7m 30s\n",
            "2500:\ttest: 0.9931933\tbest: 0.9932244 (2146)\ttotal: 2m 21s\tremaining: 7m 3s\n",
            "3000:\ttest: 0.9933203\tbest: 0.9933259 (2998)\ttotal: 2m 49s\tremaining: 6m 35s\n",
            "3500:\ttest: 0.9933198\tbest: 0.9933634 (3405)\ttotal: 3m 17s\tremaining: 6m 6s\n",
            "Stopped by overfitting detector  (500 iterations wait)\n",
            "\n",
            "bestTest = 0.9933633979\n",
            "bestIteration = 3405\n",
            "\n",
            "Shrink model to first 3406 iterations.\n",
            "ROC_AUC for fold 2: 0.9933633978809592\n",
            "\n",
            "\n",
            "FOLD --> 3\n",
            "0:\ttest: 0.9252572\tbest: 0.9252572 (0)\ttotal: 41.2ms\tremaining: 6m 51s\n",
            "500:\ttest: 0.9912235\tbest: 0.9912235 (500)\ttotal: 27.6s\tremaining: 8m 43s\n",
            "1000:\ttest: 0.9917105\tbest: 0.9917341 (960)\ttotal: 55.3s\tremaining: 8m 17s\n",
            "1500:\ttest: 0.9917920\tbest: 0.9918051 (1448)\ttotal: 1m 23s\tremaining: 7m 51s\n",
            "Stopped by overfitting detector  (500 iterations wait)\n",
            "\n",
            "bestTest = 0.9918050856\n",
            "bestIteration = 1448\n",
            "\n",
            "Shrink model to first 1449 iterations.\n",
            "ROC_AUC for fold 3: 0.9918050856392512\n",
            "\n",
            "\n",
            "FOLD --> 4\n",
            "0:\ttest: 0.9331325\tbest: 0.9331325 (0)\ttotal: 51.9ms\tremaining: 8m 38s\n",
            "500:\ttest: 0.9885187\tbest: 0.9885187 (500)\ttotal: 28.1s\tremaining: 8m 53s\n",
            "1000:\ttest: 0.9893250\tbest: 0.9893387 (989)\ttotal: 55.8s\tremaining: 8m 21s\n",
            "1500:\ttest: 0.9892842\tbest: 0.9893392 (1358)\ttotal: 1m 23s\tremaining: 7m 53s\n",
            "2000:\ttest: 0.9895467\tbest: 0.9895573 (1992)\ttotal: 1m 51s\tremaining: 7m 25s\n",
            "2500:\ttest: 0.9896315\tbest: 0.9896457 (2388)\ttotal: 2m 21s\tremaining: 7m 4s\n",
            "Stopped by overfitting detector  (500 iterations wait)\n",
            "\n",
            "bestTest = 0.989645663\n",
            "bestIteration = 2388\n",
            "\n",
            "Shrink model to first 2389 iterations.\n",
            "ROC_AUC for fold 4: 0.9896456629789964\n",
            "\n",
            "\n",
            "ROC_AUC: [0.9925428602368055, 0.9926046937431791, 0.9933633978809592, 0.9918050856392512, 0.9896456629789964]\n",
            "MEAN - STD: 0.9907195630857233\n"
          ]
        }
      ],
      "source": [
        "# С использованием стемминга\n",
        "\n",
        "display(full_train.head(1))\n",
        "\n",
        "seed_everything(SEED)\n",
        "\n",
        "X = full_train[full_train.columns[1:]]\n",
        "y = full_train['text_type']\n",
        "\n",
        "params = {\n",
        "    'depth': 6,\n",
        "    'learning_rate': 0.03,\n",
        "    'iterations': 10000,\n",
        "    'eval_metric': 'AUC',\n",
        "    'verbose': 500,\n",
        "    'random_seed': SEED,\n",
        "    'text_features': ['text']\n",
        "}\n",
        "\n",
        "n_splits = 5\n",
        "\n",
        "models = []\n",
        "metrics = []\n",
        "\n",
        "kf = KFold(n_splits=n_splits, random_state=SEED, shuffle=True)\n",
        "\n",
        "for i, (train_index, test_index) in enumerate(kf.split(X)):\n",
        "    print(f'FOLD --> {i}')\n",
        "    X_train, X_test = X.iloc[train_index], X.iloc[test_index]\n",
        "    y_train, y_test = y.iloc[train_index], y.iloc[test_index]\n",
        "\n",
        "    model = CatBoostClassifier(**params)\n",
        "    model.fit(X_train, y_train, eval_set=(X_test, y_test), early_stopping_rounds=500)\n",
        "    models.append(model)\n",
        "\n",
        "    y_pred = model.predict_proba(X_test)[:, 1]\n",
        "\n",
        "    metric = roc_auc_score(y_test, y_pred)\n",
        "    metrics.append(metric)\n",
        "    print(f\"ROC_AUC for fold {i}: {metric}\\n\\n\")\n",
        "\n",
        "\n",
        "print('ROC_AUC:', metrics)\n",
        "print('MEAN - STD:', np.mean(metrics) - np.std(metrics))\n"
      ]
    },
    {
      "cell_type": "code",
      "execution_count": null,
      "id": "8cc2b4f4-4912-404b-b040-160542d6f2e2",
      "metadata": {
        "scrolled": true,
        "id": "8cc2b4f4-4912-404b-b040-160542d6f2e2",
        "outputId": "cbd0730d-dbcf-4467-bc11-8f1493f5e6e1"
      },
      "outputs": [
        {
          "data": {
            "text/html": [
              "<div>\n",
              "<style scoped>\n",
              "    .dataframe tbody tr th:only-of-type {\n",
              "        vertical-align: middle;\n",
              "    }\n",
              "\n",
              "    .dataframe tbody tr th {\n",
              "        vertical-align: top;\n",
              "    }\n",
              "\n",
              "    .dataframe thead th {\n",
              "        text-align: right;\n",
              "    }\n",
              "</style>\n",
              "<table border=\"1\" class=\"dataframe\">\n",
              "  <thead>\n",
              "    <tr style=\"text-align: right;\">\n",
              "      <th></th>\n",
              "      <th>text_type</th>\n",
              "      <th>text</th>\n",
              "      <th>automated_readability_index</th>\n",
              "      <th>avg_character_per_word</th>\n",
              "      <th>avg_letter_per_word</th>\n",
              "      <th>avg_sentence_length</th>\n",
              "      <th>avg_sentence_per_word</th>\n",
              "      <th>avg_syllables_per_word</th>\n",
              "      <th>char_count</th>\n",
              "      <th>coleman_liau_index</th>\n",
              "      <th>...</th>\n",
              "      <th>miniword_count</th>\n",
              "      <th>monosyllabcount</th>\n",
              "      <th>polysyllabcount</th>\n",
              "      <th>reading_time</th>\n",
              "      <th>rix</th>\n",
              "      <th>sentence_count</th>\n",
              "      <th>smog_index</th>\n",
              "      <th>spache_readability</th>\n",
              "      <th>syllable_count</th>\n",
              "      <th>words_per_sentence</th>\n",
              "    </tr>\n",
              "  </thead>\n",
              "  <tbody>\n",
              "    <tr>\n",
              "      <th>0</th>\n",
              "      <td>ham</td>\n",
              "      <td>make sure alex knows his birthday is over in f...</td>\n",
              "      <td>7.5</td>\n",
              "      <td>4.44</td>\n",
              "      <td>4.44</td>\n",
              "      <td>16.0</td>\n",
              "      <td>0.06</td>\n",
              "      <td>1.3</td>\n",
              "      <td>71</td>\n",
              "      <td>8.18</td>\n",
              "      <td>...</td>\n",
              "      <td>6</td>\n",
              "      <td>12</td>\n",
              "      <td>0</td>\n",
              "      <td>1.04</td>\n",
              "      <td>4.0</td>\n",
              "      <td>1</td>\n",
              "      <td>0.0</td>\n",
              "      <td>4.17</td>\n",
              "      <td>20</td>\n",
              "      <td>16.0</td>\n",
              "    </tr>\n",
              "  </tbody>\n",
              "</table>\n",
              "<p>1 rows × 38 columns</p>\n",
              "</div>"
            ],
            "text/plain": [
              "  text_type                                               text  \\\n",
              "0       ham  make sure alex knows his birthday is over in f...   \n",
              "\n",
              "   automated_readability_index  avg_character_per_word  avg_letter_per_word  \\\n",
              "0                          7.5                    4.44                 4.44   \n",
              "\n",
              "   avg_sentence_length  avg_sentence_per_word  avg_syllables_per_word  \\\n",
              "0                 16.0                   0.06                     1.3   \n",
              "\n",
              "   char_count  coleman_liau_index  ...  miniword_count  monosyllabcount  \\\n",
              "0          71                8.18  ...               6               12   \n",
              "\n",
              "   polysyllabcount  reading_time  rix  sentence_count  smog_index  \\\n",
              "0                0          1.04  4.0               1         0.0   \n",
              "\n",
              "   spache_readability  syllable_count  words_per_sentence  \n",
              "0                4.17              20                16.0  \n",
              "\n",
              "[1 rows x 38 columns]"
            ]
          },
          "metadata": {},
          "output_type": "display_data"
        },
        {
          "name": "stdout",
          "output_type": "stream",
          "text": [
            "FOLD --> 0\n",
            "0:\ttest: 0.9426653\tbest: 0.9426653 (0)\ttotal: 28.4ms\tremaining: 4m 43s\n",
            "500:\ttest: 0.9892398\tbest: 0.9892472 (499)\ttotal: 27.6s\tremaining: 8m 43s\n",
            "1000:\ttest: 0.9902624\tbest: 0.9902647 (999)\ttotal: 55.8s\tremaining: 8m 21s\n",
            "1500:\ttest: 0.9909273\tbest: 0.9909310 (1482)\ttotal: 1m 23s\tremaining: 7m 52s\n",
            "2000:\ttest: 0.9913554\tbest: 0.9913646 (1994)\ttotal: 1m 50s\tremaining: 7m 23s\n",
            "2500:\ttest: 0.9915913\tbest: 0.9915941 (2490)\ttotal: 2m 19s\tremaining: 6m 58s\n",
            "3000:\ttest: 0.9917369\tbest: 0.9917498 (2990)\ttotal: 2m 47s\tremaining: 6m 29s\n",
            "3500:\ttest: 0.9918494\tbest: 0.9918507 (3499)\ttotal: 3m 14s\tremaining: 6m\n",
            "4000:\ttest: 0.9918941\tbest: 0.9919139 (3845)\ttotal: 3m 41s\tremaining: 5m 32s\n",
            "4500:\ttest: 0.9919738\tbest: 0.9919742 (4494)\ttotal: 4m 8s\tremaining: 5m 4s\n",
            "5000:\ttest: 0.9919669\tbest: 0.9919844 (4882)\ttotal: 4m 37s\tremaining: 4m 36s\n",
            "5500:\ttest: 0.9920175\tbest: 0.9920199 (5479)\ttotal: 5m 4s\tremaining: 4m 9s\n",
            "6000:\ttest: 0.9920673\tbest: 0.9920751 (5901)\ttotal: 5m 31s\tremaining: 3m 40s\n",
            "6500:\ttest: 0.9920968\tbest: 0.9920986 (6173)\ttotal: 5m 58s\tremaining: 3m 13s\n",
            "7000:\ttest: 0.9921516\tbest: 0.9921613 (6910)\ttotal: 6m 26s\tremaining: 2m 45s\n",
            "7500:\ttest: 0.9921756\tbest: 0.9921830 (7294)\ttotal: 6m 53s\tremaining: 2m 17s\n",
            "8000:\ttest: 0.9922028\tbest: 0.9922046 (7941)\ttotal: 7m 20s\tremaining: 1m 50s\n",
            "8500:\ttest: 0.9922134\tbest: 0.9922148 (8394)\ttotal: 7m 48s\tremaining: 1m 22s\n",
            "9000:\ttest: 0.9922115\tbest: 0.9922272 (8928)\ttotal: 8m 16s\tremaining: 55.1s\n",
            "9500:\ttest: 0.9922129\tbest: 0.9922272 (8928)\ttotal: 8m 43s\tremaining: 27.5s\n",
            "Stopped by overfitting detector  (1000 iterations wait)\n",
            "\n",
            "bestTest = 0.9922272117\n",
            "bestIteration = 8928\n",
            "\n",
            "Shrink model to first 8929 iterations.\n",
            "ROC_AUC for fold 0: 0.9922272116711632\n",
            "\n",
            "\n",
            "FOLD --> 1\n",
            "0:\ttest: 0.9369118\tbest: 0.9369118 (0)\ttotal: 41.7ms\tremaining: 6m 57s\n",
            "500:\ttest: 0.9906968\tbest: 0.9907406 (492)\ttotal: 27.3s\tremaining: 8m 37s\n",
            "1000:\ttest: 0.9912398\tbest: 0.9912421 (989)\ttotal: 54.1s\tremaining: 8m 6s\n",
            "1500:\ttest: 0.9912795\tbest: 0.9913345 (1274)\ttotal: 1m 20s\tremaining: 7m 38s\n",
            "2000:\ttest: 0.9913449\tbest: 0.9914008 (1737)\ttotal: 1m 47s\tremaining: 7m 11s\n",
            "2500:\ttest: 0.9914504\tbest: 0.9914518 (2497)\ttotal: 2m 14s\tremaining: 6m 43s\n",
            "3000:\ttest: 0.9914964\tbest: 0.9915181 (2729)\ttotal: 2m 41s\tremaining: 6m 16s\n",
            "3500:\ttest: 0.9915131\tbest: 0.9915469 (3439)\ttotal: 3m 8s\tremaining: 5m 49s\n",
            "4000:\ttest: 0.9914937\tbest: 0.9915469 (3439)\ttotal: 3m 35s\tremaining: 5m 22s\n",
            "4500:\ttest: 0.9915059\tbest: 0.9915496 (4244)\ttotal: 4m 1s\tremaining: 4m 55s\n",
            "5000:\ttest: 0.9914685\tbest: 0.9915496 (4244)\ttotal: 4m 28s\tremaining: 4m 28s\n",
            "Stopped by overfitting detector  (1000 iterations wait)\n",
            "\n",
            "bestTest = 0.9915496388\n",
            "bestIteration = 4244\n",
            "\n",
            "Shrink model to first 4245 iterations.\n",
            "ROC_AUC for fold 1: 0.9915496387693805\n",
            "\n",
            "\n",
            "FOLD --> 2\n",
            "0:\ttest: 0.9462291\tbest: 0.9462291 (0)\ttotal: 42.3ms\tremaining: 7m 2s\n",
            "500:\ttest: 0.9907123\tbest: 0.9907123 (500)\ttotal: 27s\tremaining: 8m 32s\n",
            "1000:\ttest: 0.9916189\tbest: 0.9916847 (967)\ttotal: 53.8s\tremaining: 8m 3s\n",
            "1500:\ttest: 0.9921023\tbest: 0.9921101 (1493)\ttotal: 1m 20s\tremaining: 7m 37s\n",
            "2000:\ttest: 0.9921871\tbest: 0.9922311 (1787)\ttotal: 1m 47s\tremaining: 7m 9s\n",
            "2500:\ttest: 0.9924221\tbest: 0.9924230 (2498)\ttotal: 2m 14s\tremaining: 6m 42s\n",
            "3000:\ttest: 0.9925463\tbest: 0.9925625 (2852)\ttotal: 2m 40s\tremaining: 6m 15s\n",
            "3500:\ttest: 0.9925903\tbest: 0.9926200 (3465)\ttotal: 3m 8s\tremaining: 5m 49s\n",
            "4000:\ttest: 0.9927066\tbest: 0.9927127 (3988)\ttotal: 3m 35s\tremaining: 5m 22s\n",
            "4500:\ttest: 0.9927576\tbest: 0.9927576 (4500)\ttotal: 4m 1s\tremaining: 4m 55s\n",
            "5000:\ttest: 0.9927887\tbest: 0.9927970 (4984)\ttotal: 4m 28s\tremaining: 4m 28s\n",
            "5500:\ttest: 0.9928406\tbest: 0.9928462 (5400)\ttotal: 4m 55s\tremaining: 4m 1s\n",
            "6000:\ttest: 0.9929032\tbest: 0.9929059 (5995)\ttotal: 5m 22s\tremaining: 3m 34s\n",
            "6500:\ttest: 0.9928577\tbest: 0.9929059 (5995)\ttotal: 5m 48s\tremaining: 3m 7s\n",
            "Stopped by overfitting detector  (1000 iterations wait)\n",
            "\n",
            "bestTest = 0.9929059409\n",
            "bestIteration = 5995\n",
            "\n",
            "Shrink model to first 5996 iterations.\n",
            "ROC_AUC for fold 2: 0.9929059409152847\n",
            "\n",
            "\n",
            "FOLD --> 3\n",
            "0:\ttest: 0.9452494\tbest: 0.9452494 (0)\ttotal: 40.9ms\tremaining: 6m 49s\n",
            "500:\ttest: 0.9901069\tbest: 0.9901069 (500)\ttotal: 26.6s\tremaining: 8m 24s\n",
            "1000:\ttest: 0.9910457\tbest: 0.9910509 (994)\ttotal: 53.4s\tremaining: 7m 59s\n",
            "1500:\ttest: 0.9913389\tbest: 0.9913838 (1484)\ttotal: 1m 20s\tremaining: 7m 34s\n",
            "2000:\ttest: 0.9916557\tbest: 0.9916639 (1994)\ttotal: 1m 47s\tremaining: 7m 7s\n",
            "2500:\ttest: 0.9917837\tbest: 0.9917842 (2498)\ttotal: 2m 14s\tremaining: 6m 42s\n",
            "3000:\ttest: 0.9918094\tbest: 0.9918155 (2928)\ttotal: 2m 40s\tremaining: 6m 14s\n",
            "3500:\ttest: 0.9918543\tbest: 0.9918552 (3496)\ttotal: 3m 7s\tremaining: 5m 47s\n",
            "4000:\ttest: 0.9919049\tbest: 0.9919105 (3975)\ttotal: 3m 33s\tremaining: 5m 19s\n",
            "4500:\ttest: 0.9918813\tbest: 0.9919118 (4036)\ttotal: 4m\tremaining: 4m 53s\n",
            "5000:\ttest: 0.9919258\tbest: 0.9919258 (5000)\ttotal: 4m 26s\tremaining: 4m 26s\n",
            "5500:\ttest: 0.9918670\tbest: 0.9919467 (5047)\ttotal: 4m 52s\tremaining: 3m 59s\n",
            "6000:\ttest: 0.9918351\tbest: 0.9919467 (5047)\ttotal: 5m 19s\tremaining: 3m 32s\n",
            "Stopped by overfitting detector  (1000 iterations wait)\n",
            "\n",
            "bestTest = 0.9919466777\n",
            "bestIteration = 5047\n",
            "\n",
            "Shrink model to first 5048 iterations.\n",
            "ROC_AUC for fold 3: 0.9919466777268241\n",
            "\n",
            "\n",
            "FOLD --> 4\n",
            "0:\ttest: 0.9490898\tbest: 0.9490898 (0)\ttotal: 41ms\tremaining: 6m 50s\n",
            "500:\ttest: 0.9901736\tbest: 0.9901855 (497)\ttotal: 26.8s\tremaining: 8m 27s\n",
            "1000:\ttest: 0.9904549\tbest: 0.9904553 (992)\ttotal: 53s\tremaining: 7m 56s\n",
            "1500:\ttest: 0.9906427\tbest: 0.9906734 (1299)\ttotal: 1m 19s\tremaining: 7m 29s\n",
            "2000:\ttest: 0.9906084\tbest: 0.9906816 (1736)\ttotal: 1m 45s\tremaining: 7m 2s\n",
            "2500:\ttest: 0.9906743\tbest: 0.9907004 (2466)\ttotal: 2m 12s\tremaining: 6m 36s\n",
            "3000:\ttest: 0.9906326\tbest: 0.9907004 (2466)\ttotal: 2m 38s\tremaining: 6m 10s\n",
            "Stopped by overfitting detector  (1000 iterations wait)\n",
            "\n",
            "bestTest = 0.9907004283\n",
            "bestIteration = 2466\n",
            "\n",
            "Shrink model to first 2467 iterations.\n",
            "ROC_AUC for fold 4: 0.9907004283194759\n",
            "\n",
            "\n",
            "ROC_AUC: [0.9922272116711632, 0.9915496387693805, 0.9929059409152847, 0.9919466777268241, 0.9907004283194759]\n",
            "MEAN - STD: 0.9911342552642285\n"
          ]
        }
      ],
      "source": [
        "display(full_train.head(1))\n",
        "\n",
        "seed_everything(SEED)\n",
        "\n",
        "X = full_train[full_train.columns[1:]]\n",
        "y = full_train['text_type']\n",
        "\n",
        "params = {\n",
        "    'depth': 6,\n",
        "    'learning_rate': 0.03,\n",
        "    'iterations': 10000,\n",
        "    'eval_metric': 'AUC',\n",
        "    'verbose': 500,\n",
        "    'random_seed': SEED,\n",
        "    'text_features': ['text']\n",
        "}\n",
        "\n",
        "n_splits = 5\n",
        "\n",
        "models = []\n",
        "metrics = []\n",
        "\n",
        "kf = KFold(n_splits=n_splits, random_state=SEED, shuffle=True)\n",
        "\n",
        "for i, (train_index, test_index) in enumerate(kf.split(X)):\n",
        "    print(f'FOLD --> {i}')\n",
        "    X_train, X_test = X.iloc[train_index], X.iloc[test_index]\n",
        "    y_train, y_test = y.iloc[train_index], y.iloc[test_index]\n",
        "\n",
        "    model = CatBoostClassifier(**params)\n",
        "    model.fit(X_train, y_train, eval_set=(X_test, y_test), early_stopping_rounds=1000)\n",
        "    models.append(model)\n",
        "\n",
        "    y_pred = model.predict_proba(X_test)[:, 1]\n",
        "\n",
        "    metric = roc_auc_score(y_test, y_pred)\n",
        "    metrics.append(metric)\n",
        "    print(f\"ROC_AUC for fold {i}: {metric}\\n\\n\")\n",
        "\n",
        "\n",
        "print('ROC_AUC:', metrics)\n",
        "print('MEAN - STD:', np.mean(metrics) - np.std(metrics))\n"
      ]
    },
    {
      "cell_type": "markdown",
      "id": "67ab0469-b522-4f54-a388-4e74ab1734d1",
      "metadata": {
        "id": "67ab0469-b522-4f54-a388-4e74ab1734d1"
      },
      "source": [
        "# FastText"
      ]
    },
    {
      "cell_type": "code",
      "execution_count": null,
      "id": "505b53c8-00fd-41ee-ba68-a48e267e1f08",
      "metadata": {
        "id": "505b53c8-00fd-41ee-ba68-a48e267e1f08",
        "outputId": "6e4d9c6c-89eb-4454-f883-7dd50f369bea"
      },
      "outputs": [
        {
          "name": "stdout",
          "output_type": "stream",
          "text": [
            "ROC_AUC for fold 0: 0.6930492803443103\n",
            "ROC_AUC for fold 1: 0.6998119436101415\n",
            "ROC_AUC for fold 2: 0.685297648291141\n",
            "ROC_AUC for fold 3: 0.6979699179985761\n",
            "ROC_AUC for fold 4: 0.6964635012254059\n",
            "ROC_AUC: [0.6930492803443103, 0.6998119436101415, 0.685297648291141, 0.6979699179985761, 0.6964635012254059]\n",
            "MEAN - STD: 0.6894018466446648\n"
          ]
        }
      ],
      "source": [
        "seed_everything(SEED)\n",
        "\n",
        "n_splits = 5\n",
        "kf = KFold(n_splits=n_splits, shuffle=True, random_state=SEED)\n",
        "\n",
        "X = full_train[full_train.columns[1:]]\n",
        "y = full_train['text_type']\n",
        "\n",
        "metrics, models = [], []\n",
        "\n",
        "for i, (train_idx, valid_idx) in enumerate(kf.split(X)):\n",
        "    X_tr, y_tr = X.iloc[train_idx, :], y.iloc[train_idx]\n",
        "    X_val, y_val = X.iloc[valid_idx, :], y.iloc[valid_idx]\n",
        "\n",
        "    with open('train.txt', 'wt', encoding='UTF-8') as f:\n",
        "        for k in range(X_tr.shape[0]):\n",
        "            f.write(f\"__label__{y_tr.iloc[k]} {X_tr.iloc[k]['text']}\\n\")\n",
        "    with open('eval.txt', 'wt', encoding='UTF-8') as f:\n",
        "        for k in range(X_val.shape[0]):\n",
        "            f.write(f\"__label__{y_val.iloc[k]} {X_val.iloc[k]['text']}\\n\")\n",
        "\n",
        "    model = fasttext.train_supervised(input=\"train.txt\")\n",
        "\n",
        "    y_pred = []\n",
        "    for k in range(X_val.shape[0]):\n",
        "        # print(X_val.iloc[k]['Tweet'].strip())\n",
        "        full_pred = model.predict(X_val.iloc[k]['text'].replace('\\n', ' '))\n",
        "        # print(full_pred)\n",
        "        if 'ham' in full_pred[0]:\n",
        "            y_pred.append(torch.tensor(full_pred[1][0]).sigmoid())\n",
        "        else:\n",
        "            y_pred.append(1 - torch.tensor(full_pred[1][0]).sigmoid())\n",
        "\n",
        "    score = roc_auc_score(y_val, torch.tensor(y_pred))\n",
        "    metrics.append(score)\n",
        "    print(f\"ROC_AUC for fold {i}: {score}\")\n",
        "\n",
        "    models.append(model)\n",
        "\n",
        "print('ROC_AUC:', metrics)\n",
        "print('MEAN - STD:', np.mean(metrics) - np.std(metrics))"
      ]
    },
    {
      "cell_type": "code",
      "execution_count": null,
      "id": "4899c0f5-e247-46c6-abe5-734905279911",
      "metadata": {
        "id": "4899c0f5-e247-46c6-abe5-734905279911",
        "outputId": "c1a1e2f8-0a42-440b-e706-a76d6b6ebb3f"
      },
      "outputs": [
        {
          "data": {
            "text/plain": [
              "0.6945184582939149"
            ]
          },
          "execution_count": 27,
          "metadata": {},
          "output_type": "execute_result"
        }
      ],
      "source": [
        "np.mean([0.6930492803443103, 0.6998119436101415, 0.685297648291141, 0.6979699179985761, 0.6964635012254059])"
      ]
    },
    {
      "cell_type": "markdown",
      "id": "39ad5671-fff2-4baa-b604-140ced565446",
      "metadata": {
        "id": "39ad5671-fff2-4baa-b604-140ced565446"
      },
      "source": [
        "# CNN"
      ]
    },
    {
      "cell_type": "code",
      "execution_count": null,
      "id": "782038c0-a6f7-45f8-8201-4514aaf30ecd",
      "metadata": {
        "id": "782038c0-a6f7-45f8-8201-4514aaf30ecd",
        "outputId": "92eaf3ec-d3d4-4b0e-8808-6a3661d7383d"
      },
      "outputs": [
        {
          "name": "stdout",
          "output_type": "stream",
          "text": [
            "num_tokens =  54490\n",
            "Tokens example: ['<pad>', '<unk>', 'faades', 'farker', '1095']\n",
            "num_encoded_tokens = 54490\n",
            "Tokens encoding example: [('<pad>', 0), ('<unk>', 1), ('faades', 2), ('farker', 3), ('1095', 4)]\n",
            "Seems alright!\n"
          ]
        }
      ],
      "source": [
        "PAD = '<pad>'\n",
        "UNK = '<unk>'\n",
        "\n",
        "def preprocess_data(data: pd.Series, tokenizer: Callable = TweetTokenizer().tokenize, pad_token=PAD, unk_token=UNK):\n",
        "    #all unique characters go here    (letters)\n",
        "    tokens = [pad_token, unk_token] + list(set(tokenizer(data.str.cat(sep=' '))))\n",
        "\n",
        "    num_tokens = len(tokens)\n",
        "    print ('num_tokens = ', num_tokens)\n",
        "    print('Tokens example:', tokens[:5])\n",
        "\n",
        "    token_to_id = {token: idx for idx, token in enumerate(tokens)}\n",
        "    print('num_encoded_tokens =', len(token_to_id))\n",
        "    print('Tokens encoding example:', list(token_to_id.items())[:5])\n",
        "\n",
        "    # Создадим словарь <символ> -> <id>\n",
        "    assert len(tokens) == len(token_to_id), \"dictionaries must have same size\"\n",
        "\n",
        "    for i in range(num_tokens):\n",
        "        assert token_to_id[tokens[i]] == i, \"token identifier must be it's position in tokens list\"\n",
        "\n",
        "    print(\"Seems alright!\")\n",
        "\n",
        "    return tokens, token_to_id\n",
        "\n",
        "tokens, token_to_id = preprocess_data(full_train['text'])"
      ]
    },
    {
      "cell_type": "code",
      "execution_count": null,
      "id": "719697cc-619e-4f59-ab69-0e17bcc7720f",
      "metadata": {
        "id": "719697cc-619e-4f59-ab69-0e17bcc7720f",
        "outputId": "90ef8624-83b8-45d7-a1b5-29d7d41bf19e"
      },
      "outputs": [
        {
          "data": {
            "text/plain": [
              "['<pad>',\n",
              " '<unk>',\n",
              " 'faades',\n",
              " 'farker',\n",
              " '1095',\n",
              " 'reduce',\n",
              " 'smiley',\n",
              " 'buildin',\n",
              " '24cash',\n",
              " 'ho']"
            ]
          },
          "execution_count": 11,
          "metadata": {},
          "output_type": "execute_result"
        }
      ],
      "source": [
        "tokens[:10]"
      ]
    },
    {
      "cell_type": "code",
      "execution_count": null,
      "id": "4c353a79-5535-4d46-bee6-28e360a20685",
      "metadata": {
        "id": "4c353a79-5535-4d46-bee6-28e360a20685",
        "outputId": "c7f6a186-8fba-4969-f227-4f7b0cb73fe4"
      },
      "outputs": [
        {
          "data": {
            "text/plain": [
              "0       j jim whitehead ejw cse ucsc edu writes j you ...\n",
              "1       original message from bitbitch magnesium net p...\n",
              "2       java for managers vince durasoft who just taug...\n",
              "3                    there is a youtuber name saiman says\n",
              "4       underpriced issue with high return on equity t...\n",
              "                              ...                        \n",
              "4065    husband to wifetum meri zindagi hoorwifeor kya...\n",
              "4066    baylor enron case study cindy yes i shall co a...\n",
              "4067                             boring as compared to tp\n",
              "4068    hellogorgeous hows u my fone was on charge lst...\n",
              "4069    energy conference mark we are really swamped a...\n",
              "Name: text, Length: 4070, dtype: object"
            ]
          },
          "execution_count": 12,
          "metadata": {},
          "output_type": "execute_result"
        }
      ],
      "source": [
        "test['text']"
      ]
    },
    {
      "cell_type": "code",
      "execution_count": null,
      "id": "32b79b39-df45-47e7-bd0a-fc17ac6366b7",
      "metadata": {
        "id": "32b79b39-df45-47e7-bd0a-fc17ac6366b7",
        "outputId": "fc5b1ff5-2327-47b2-bd7f-2c0a01da1f0b"
      },
      "outputs": [
        {
          "data": {
            "text/plain": [
              "'make sure alex knows his birthday is over in fifteen minutes as far as youre concerned'"
            ]
          },
          "metadata": {},
          "output_type": "display_data"
        },
        {
          "name": "stdout",
          "output_type": "stream",
          "text": [
            "\n"
          ]
        }
      ],
      "source": [
        "def to_matrix(data, token_to_id, max_len=None, dtype='int32', batch_first = True, tokenizer=TweetTokenizer().tokenize):\n",
        "    \"\"\"Casts a list of names into rnn-digestable matrix\"\"\"\n",
        "    # print(data)\n",
        "    data = data.apply(tokenizer).tolist()\n",
        "\n",
        "    # print(data[:1])\n",
        "\n",
        "    max_len = max_len or max(map(len, data))\n",
        "    data_ix = np.zeros([len(data), max_len], dtype) + token_to_id[PAD]\n",
        "\n",
        "    for i in range(len(data)):\n",
        "        line_ix = [token_to_id[c] if c in token_to_id else token_to_id[UNK] for c in data[i]]\n",
        "        data_ix[i, :len(line_ix)] = line_ix\n",
        "\n",
        "    if not batch_first: # convert [batch, time] into [time, batch]\n",
        "        data_ix = np.transpose(data_ix)\n",
        "\n",
        "    return data_ix\n",
        "\n",
        "display(full_train['text'].head(1).iloc[0])\n",
        "print()\n",
        "\n",
        "X_train_matr = torch.tensor(to_matrix(full_train['text'], token_to_id), dtype=torch.int64)\n",
        "\n",
        "mapper = {\n",
        "    'ham': 0,\n",
        "    'spam': 1\n",
        "}\n",
        "\n",
        "y = full_train['text_type'].apply(lambda el: mapper[el])\n",
        "\n",
        "\n",
        "X_train_matr, X_eval_matr, y_train, y_eval = train_test_split(X_train_matr, y, test_size=0.2, random_state=SEED)\n",
        "max_len = X_train_matr.shape[1]"
      ]
    },
    {
      "cell_type": "code",
      "execution_count": null,
      "id": "bcd1ffec-c710-4f87-a0d7-82de228a5ad2",
      "metadata": {
        "id": "bcd1ffec-c710-4f87-a0d7-82de228a5ad2",
        "outputId": "b0235e3b-fa0b-40ca-a28a-f322ce3b1cda"
      },
      "outputs": [
        {
          "data": {
            "text/plain": [
              "tensor([[19764, 27363, 46840,  ...,     0,     0,     0],\n",
              "        [ 8856, 14717, 12917,  ...,     0,     0,     0],\n",
              "        [51303, 52695, 12917,  ...,     0,     0,     0],\n",
              "        ...,\n",
              "        [18200, 17466, 40236,  ...,     0,     0,     0],\n",
              "        [24496, 24496, 21963,  ...,     0,     0,     0],\n",
              "        [42720,   355, 23688,  ...,     0,     0,     0]])"
            ]
          },
          "execution_count": 14,
          "metadata": {},
          "output_type": "execute_result"
        }
      ],
      "source": [
        "X_train_matr"
      ]
    },
    {
      "cell_type": "code",
      "execution_count": null,
      "id": "10067f7d-b7d6-4c31-8244-8304baca3937",
      "metadata": {
        "id": "10067f7d-b7d6-4c31-8244-8304baca3937"
      },
      "outputs": [],
      "source": [
        "BATCH_SIZE = 32\n",
        "\n",
        "class TextDataset(torch.utils.data.Dataset):\n",
        "    def __init__(self, matrix, labels=None):\n",
        "        self.matrix = matrix\n",
        "        self.labels = labels\n",
        "\n",
        "    def __len__(self):\n",
        "        return self.matrix.shape[0]\n",
        "\n",
        "    def __getitem__(self, idx):\n",
        "        if self.labels is None:\n",
        "            return self.matrix[idx]\n",
        "        return self.matrix[idx], self.labels[idx]\n",
        "\n",
        "X_train_dataset = TextDataset(torch.tensor(X_train_matr), torch.tensor(y_train.to_numpy()))\n",
        "X_eval_dataset = TextDataset(torch.tensor(X_eval_matr), torch.tensor(y_eval.to_numpy()))\n",
        "\n",
        "X_train_dataloader = torch.utils.data.DataLoader(X_train_dataset, shuffle=True, batch_size=BATCH_SIZE)\n",
        "X_eval_dataloader = torch.utils.data.DataLoader(X_eval_dataset, shuffle=False, batch_size=BATCH_SIZE)"
      ]
    },
    {
      "cell_type": "code",
      "execution_count": null,
      "id": "cb458582-5e99-4386-bf5c-e056054879c3",
      "metadata": {
        "id": "cb458582-5e99-4386-bf5c-e056054879c3"
      },
      "outputs": [],
      "source": [
        "class CustomCNN(L.LightningModule):\n",
        "    def __init__(self, criterion, metric, vocab_size, max_len, emb_dim=256, n_classes=2):\n",
        "        super().__init__()\n",
        "        self.criterion = criterion\n",
        "        self.metric = metric\n",
        "\n",
        "        self.vocab_size = vocab_size\n",
        "        self.emb_dim = emb_dim\n",
        "        self.max_len = max_len\n",
        "        self.embedding = nn.Embedding(self.vocab_size, self.emb_dim)\n",
        "\n",
        "        self.conv1 = nn.Conv1d(self.emb_dim, 4096, kernel_size=3)\n",
        "        self.conv2 = nn.Conv1d(4096, 4096, kernel_size=3)\n",
        "        self.max_pool7 = nn.MaxPool1d(7)\n",
        "        self.max_pool5 = nn.MaxPool1d(5)\n",
        "        self.max_pool3 = nn.MaxPool1d(3)\n",
        "\n",
        "        # self.linear1 = nn.Linear(self.max_len*self.emb_dim, 4096)\n",
        "        self.linear2 = nn.Linear(94208, 512)\n",
        "        self.linear3 = nn.Linear(512, n_classes)\n",
        "\n",
        "        self.act = nn.ReLU()\n",
        "\n",
        "\n",
        "    def forward(self, x):\n",
        "        embs = self.embedding(x)\n",
        "        embs = embs.transpose(1, 2)\n",
        "\n",
        "        conved = self.conv1(embs)\n",
        "        pooled = self.max_pool3(conved)\n",
        "\n",
        "        conved = self.conv2(pooled)\n",
        "        pooled = self.max_pool3(conved)\n",
        "\n",
        "        flattened = torch.flatten(pooled, 1, 2)\n",
        "\n",
        "        x = self.act(self.linear2(flattened))\n",
        "        x = self.linear3(x)\n",
        "\n",
        "        return x\n",
        "\n",
        "    def training_step(self, batch, batch_idx):\n",
        "        # print('Training...')\n",
        "        objects, labels = batch\n",
        "        objects = objects.to(DEVICE)\n",
        "        labels = labels.to(DEVICE)\n",
        "\n",
        "        preds = model(objects)\n",
        "\n",
        "        loss = self.criterion(preds, labels)\n",
        "        auc = self.metric(labels.cpu().detach().numpy(), preds.cpu().detach().numpy()[:, 1])\n",
        "        self.log(\"train_loss\", loss, prog_bar=True)\n",
        "        self.log(\"train_auc\", auc, prog_bar=True)\n",
        "\n",
        "        return loss\n",
        "\n",
        "    def validation_step(self, batch, batch_idx):\n",
        "        with torch.no_grad():\n",
        "            objects, labels = batch\n",
        "            objects = objects.to(DEVICE)\n",
        "            labels = labels.to(DEVICE)\n",
        "\n",
        "            preds = model(objects)\n",
        "\n",
        "            loss = self.criterion(preds, labels)\n",
        "            auc = self.metric(labels.cpu().detach().numpy(), preds.cpu().detach().numpy()[:, 1])\n",
        "            self.log(\"eval_loss\", loss, prog_bar=True)\n",
        "            self.log(\"eval_auc\", auc, prog_bar=True)\n",
        "            output = dict({\n",
        "                'eval_loss': loss,\n",
        "                'eval_auc': auc,\n",
        "            })\n",
        "            return output\n",
        "\n",
        "    def test_step(self, batch, batch_idx):\n",
        "        with torch.no_grad():\n",
        "            objects, labels = batch\n",
        "            objects = objects.to(DEVICE)\n",
        "            labels = labels.to(DEVICE)\n",
        "\n",
        "            preds = model(objects)\n",
        "\n",
        "            loss = self.criterion(preds, labels)\n",
        "            auc = self.metric(labels.cpu().detach().numpy(), preds.cpu().detach().numpy()[:, 1])\n",
        "            self.log(\"test_loss\", loss, prog_bar=True)\n",
        "            self.log(\"test_auc\", auc, prog_bar=True)\n",
        "            output = dict({\n",
        "                'test_loss': loss,\n",
        "                'test_auc': auc,\n",
        "            })\n",
        "            return output\n",
        "\n",
        "\n",
        "    def predict_step(self, batch, batch_idx):\n",
        "        self.eval()\n",
        "        with torch.no_grad():\n",
        "            objects = batch[0]\n",
        "            objects = objects.to(DEVICE)\n",
        "\n",
        "            preds = model(objects)\n",
        "\n",
        "            return preds\n",
        "\n",
        "\n",
        "    def configure_optimizers(self):\n",
        "        optimizer = torch.optim.Adam(self.parameters(), lr=1e-4)\n",
        "        lr_scheduler = optim.lr_scheduler.ReduceLROnPlateau(optimizer, patience=2, verbose=True, factor=0.5, mode='max')\n",
        "        return {\n",
        "            \"optimizer\": optimizer,\n",
        "            \"lr_scheduler\": lr_scheduler,\n",
        "            \"monitor\": \"eval_auc\",\n",
        "            \"mode\": \"max\"\n",
        "        }\n",
        ""
      ]
    },
    {
      "cell_type": "code",
      "execution_count": null,
      "id": "7a66b043-2faf-4ad4-a2a5-fd3bcd9359d9",
      "metadata": {
        "colab": {
          "referenced_widgets": [
            "",
            "571ac43c704f4f80b09dc109db4ce3e2",
            "aa0ef537849d4824b3395c68176efc9c",
            "122c67cff27e4f0bb8989a9a14bf051e",
            "d025613acc5a48feb705a652ead713aa",
            "e2c24860e6234f0caf13fba1a8ac777e",
            "b34c2e597d624ba1a5ee99bf328fc13f"
          ]
        },
        "id": "7a66b043-2faf-4ad4-a2a5-fd3bcd9359d9",
        "outputId": "b42d89a0-4cbd-453b-c762-a857c7472dea"
      },
      "outputs": [
        {
          "name": "stderr",
          "output_type": "stream",
          "text": [
            "GPU available: True (cuda), used: True\n",
            "TPU available: False, using: 0 TPU cores\n",
            "IPU available: False, using: 0 IPUs\n",
            "HPU available: False, using: 0 HPUs\n",
            "LOCAL_RANK: 0 - CUDA_VISIBLE_DEVICES: [0]\n",
            "\n",
            "  | Name      | Type             | Params\n",
            "-----------------------------------------------\n",
            "0 | criterion | CrossEntropyLoss | 0     \n",
            "1 | embedding | Embedding        | 13.9 M\n",
            "2 | conv1     | Conv1d           | 3.1 M \n",
            "3 | conv2     | Conv1d           | 50.3 M\n",
            "4 | max_pool7 | MaxPool1d        | 0     \n",
            "5 | max_pool5 | MaxPool1d        | 0     \n",
            "6 | max_pool3 | MaxPool1d        | 0     \n",
            "7 | linear2   | Linear           | 48.2 M\n",
            "8 | linear3   | Linear           | 1.0 K \n",
            "9 | act       | ReLU             | 0     \n",
            "-----------------------------------------------\n",
            "115 M     Trainable params\n",
            "0         Non-trainable params\n",
            "115 M     Total params\n",
            "462.684   Total estimated model params size (MB)\n"
          ]
        },
        {
          "data": {
            "application/vnd.jupyter.widget-view+json": {
              "model_id": "",
              "version_major": 2,
              "version_minor": 0
            },
            "text/plain": [
              "Sanity Checking: |                                                                               | 0/? [00:00<…"
            ]
          },
          "metadata": {},
          "output_type": "display_data"
        },
        {
          "data": {
            "application/vnd.jupyter.widget-view+json": {
              "model_id": "571ac43c704f4f80b09dc109db4ce3e2",
              "version_major": 2,
              "version_minor": 0
            },
            "text/plain": [
              "Training: |                                                                                      | 0/? [00:00<…"
            ]
          },
          "metadata": {},
          "output_type": "display_data"
        },
        {
          "name": "stderr",
          "output_type": "stream",
          "text": [
            "Epoch 0, global step 100: 'eval_loss' was not in top 3\n"
          ]
        },
        {
          "data": {
            "application/vnd.jupyter.widget-view+json": {
              "model_id": "",
              "version_major": 2,
              "version_minor": 0
            },
            "text/plain": [
              "Validation: |                                                                                    | 0/? [00:00<…"
            ]
          },
          "metadata": {},
          "output_type": "display_data"
        },
        {
          "name": "stderr",
          "output_type": "stream",
          "text": [
            "Epoch 0, global step 200: 'eval_loss' reached 0.50547 (best 0.50547), saving model to 'D:\\\\Programming\\\\Kaggle\\\\VK_internship\\\\NLP_spam\\\\models\\\\epoch=0-eval_loss=0.51-eval_auc=0.5776.ckpt' as top 3\n"
          ]
        },
        {
          "data": {
            "application/vnd.jupyter.widget-view+json": {
              "model_id": "",
              "version_major": 2,
              "version_minor": 0
            },
            "text/plain": [
              "Validation: |                                                                                    | 0/? [00:00<…"
            ]
          },
          "metadata": {},
          "output_type": "display_data"
        },
        {
          "name": "stderr",
          "output_type": "stream",
          "text": [
            "Epoch 0, global step 300: 'eval_loss' reached 2.26714 (best 0.50547), saving model to 'D:\\\\Programming\\\\Kaggle\\\\VK_internship\\\\NLP_spam\\\\models\\\\epoch=0-eval_loss=2.27-eval_auc=0.8057.ckpt' as top 3\n"
          ]
        },
        {
          "data": {
            "application/vnd.jupyter.widget-view+json": {
              "model_id": "",
              "version_major": 2,
              "version_minor": 0
            },
            "text/plain": [
              "Validation: |                                                                                    | 0/? [00:00<…"
            ]
          },
          "metadata": {},
          "output_type": "display_data"
        },
        {
          "name": "stderr",
          "output_type": "stream",
          "text": [
            "Epoch 0, global step 400: 'eval_loss' reached 0.35366 (best 0.35366), saving model to 'D:\\\\Programming\\\\Kaggle\\\\VK_internship\\\\NLP_spam\\\\models\\\\epoch=0-eval_loss=0.35-eval_auc=0.8469.ckpt' as top 3\n"
          ]
        },
        {
          "data": {
            "application/vnd.jupyter.widget-view+json": {
              "model_id": "",
              "version_major": 2,
              "version_minor": 0
            },
            "text/plain": [
              "Validation: |                                                                                    | 0/? [00:00<…"
            ]
          },
          "metadata": {},
          "output_type": "display_data"
        },
        {
          "name": "stderr",
          "output_type": "stream",
          "text": [
            "Epoch 1, global step 500: 'eval_loss' reached 0.33572 (best 0.33572), saving model to 'D:\\\\Programming\\\\Kaggle\\\\VK_internship\\\\NLP_spam\\\\models\\\\epoch=1-eval_loss=0.34-eval_auc=0.8794.ckpt' as top 3\n"
          ]
        },
        {
          "data": {
            "application/vnd.jupyter.widget-view+json": {
              "model_id": "",
              "version_major": 2,
              "version_minor": 0
            },
            "text/plain": [
              "Validation: |                                                                                    | 0/? [00:00<…"
            ]
          },
          "metadata": {},
          "output_type": "display_data"
        },
        {
          "name": "stderr",
          "output_type": "stream",
          "text": [
            "Epoch 1, global step 600: 'eval_loss' reached 0.31591 (best 0.31591), saving model to 'D:\\\\Programming\\\\Kaggle\\\\VK_internship\\\\NLP_spam\\\\models\\\\epoch=1-eval_loss=0.32-eval_auc=0.9093.ckpt' as top 3\n"
          ]
        },
        {
          "data": {
            "application/vnd.jupyter.widget-view+json": {
              "model_id": "",
              "version_major": 2,
              "version_minor": 0
            },
            "text/plain": [
              "Validation: |                                                                                    | 0/? [00:00<…"
            ]
          },
          "metadata": {},
          "output_type": "display_data"
        },
        {
          "name": "stderr",
          "output_type": "stream",
          "text": [
            "Epoch 1, global step 700: 'eval_loss' reached 0.25799 (best 0.25799), saving model to 'D:\\\\Programming\\\\Kaggle\\\\VK_internship\\\\NLP_spam\\\\models\\\\epoch=1-eval_loss=0.26-eval_auc=0.9358.ckpt' as top 3\n"
          ]
        },
        {
          "data": {
            "application/vnd.jupyter.widget-view+json": {
              "model_id": "",
              "version_major": 2,
              "version_minor": 0
            },
            "text/plain": [
              "Validation: |                                                                                    | 0/? [00:00<…"
            ]
          },
          "metadata": {},
          "output_type": "display_data"
        },
        {
          "name": "stderr",
          "output_type": "stream",
          "text": [
            "Epoch 1, global step 800: 'eval_loss' reached 0.24926 (best 0.24926), saving model to 'D:\\\\Programming\\\\Kaggle\\\\VK_internship\\\\NLP_spam\\\\models\\\\epoch=1-eval_loss=0.25-eval_auc=0.9530.ckpt' as top 3\n"
          ]
        },
        {
          "data": {
            "application/vnd.jupyter.widget-view+json": {
              "model_id": "",
              "version_major": 2,
              "version_minor": 0
            },
            "text/plain": [
              "Validation: |                                                                                    | 0/? [00:00<…"
            ]
          },
          "metadata": {},
          "output_type": "display_data"
        },
        {
          "name": "stderr",
          "output_type": "stream",
          "text": [
            "Epoch 2, global step 900: 'eval_loss' reached 0.21303 (best 0.21303), saving model to 'D:\\\\Programming\\\\Kaggle\\\\VK_internship\\\\NLP_spam\\\\models\\\\epoch=2-eval_loss=0.21-eval_auc=0.9576.ckpt' as top 3\n"
          ]
        },
        {
          "data": {
            "application/vnd.jupyter.widget-view+json": {
              "model_id": "",
              "version_major": 2,
              "version_minor": 0
            },
            "text/plain": [
              "Validation: |                                                                                    | 0/? [00:00<…"
            ]
          },
          "metadata": {},
          "output_type": "display_data"
        },
        {
          "name": "stderr",
          "output_type": "stream",
          "text": [
            "Epoch 2, global step 1000: 'eval_loss' reached 0.20293 (best 0.20293), saving model to 'D:\\\\Programming\\\\Kaggle\\\\VK_internship\\\\NLP_spam\\\\models\\\\epoch=2-eval_loss=0.20-eval_auc=0.9602.ckpt' as top 3\n"
          ]
        },
        {
          "data": {
            "application/vnd.jupyter.widget-view+json": {
              "model_id": "",
              "version_major": 2,
              "version_minor": 0
            },
            "text/plain": [
              "Validation: |                                                                                    | 0/? [00:00<…"
            ]
          },
          "metadata": {},
          "output_type": "display_data"
        },
        {
          "name": "stderr",
          "output_type": "stream",
          "text": [
            "Epoch 2, global step 1100: 'eval_loss' was not in top 3\n"
          ]
        },
        {
          "data": {
            "application/vnd.jupyter.widget-view+json": {
              "model_id": "",
              "version_major": 2,
              "version_minor": 0
            },
            "text/plain": [
              "Validation: |                                                                                    | 0/? [00:00<…"
            ]
          },
          "metadata": {},
          "output_type": "display_data"
        },
        {
          "name": "stderr",
          "output_type": "stream",
          "text": [
            "Epoch 2, global step 1200: 'eval_loss' reached 0.18942 (best 0.18942), saving model to 'D:\\\\Programming\\\\Kaggle\\\\VK_internship\\\\NLP_spam\\\\models\\\\epoch=2-eval_loss=0.19-eval_auc=0.9709.ckpt' as top 3\n"
          ]
        },
        {
          "data": {
            "application/vnd.jupyter.widget-view+json": {
              "model_id": "",
              "version_major": 2,
              "version_minor": 0
            },
            "text/plain": [
              "Validation: |                                                                                    | 0/? [00:00<…"
            ]
          },
          "metadata": {},
          "output_type": "display_data"
        },
        {
          "name": "stderr",
          "output_type": "stream",
          "text": [
            "Epoch 3, global step 1300: 'eval_loss' reached 0.19459 (best 0.18942), saving model to 'D:\\\\Programming\\\\Kaggle\\\\VK_internship\\\\NLP_spam\\\\models\\\\epoch=3-eval_loss=0.19-eval_auc=0.9734.ckpt' as top 3\n"
          ]
        },
        {
          "data": {
            "application/vnd.jupyter.widget-view+json": {
              "model_id": "",
              "version_major": 2,
              "version_minor": 0
            },
            "text/plain": [
              "Validation: |                                                                                    | 0/? [00:00<…"
            ]
          },
          "metadata": {},
          "output_type": "display_data"
        },
        {
          "name": "stderr",
          "output_type": "stream",
          "text": [
            "Epoch 3, global step 1400: 'eval_loss' reached 0.19529 (best 0.18942), saving model to 'D:\\\\Programming\\\\Kaggle\\\\VK_internship\\\\NLP_spam\\\\models\\\\epoch=3-eval_loss=0.20-eval_auc=0.9742.ckpt' as top 3\n"
          ]
        },
        {
          "data": {
            "application/vnd.jupyter.widget-view+json": {
              "model_id": "",
              "version_major": 2,
              "version_minor": 0
            },
            "text/plain": [
              "Validation: |                                                                                    | 0/? [00:00<…"
            ]
          },
          "metadata": {},
          "output_type": "display_data"
        },
        {
          "name": "stderr",
          "output_type": "stream",
          "text": [
            "Epoch 3, global step 1500: 'eval_loss' was not in top 3\n"
          ]
        },
        {
          "data": {
            "application/vnd.jupyter.widget-view+json": {
              "model_id": "",
              "version_major": 2,
              "version_minor": 0
            },
            "text/plain": [
              "Validation: |                                                                                    | 0/? [00:00<…"
            ]
          },
          "metadata": {},
          "output_type": "display_data"
        },
        {
          "name": "stderr",
          "output_type": "stream",
          "text": [
            "Epoch 3, global step 1600: 'eval_loss' was not in top 3\n"
          ]
        },
        {
          "data": {
            "application/vnd.jupyter.widget-view+json": {
              "model_id": "",
              "version_major": 2,
              "version_minor": 0
            },
            "text/plain": [
              "Validation: |                                                                                    | 0/? [00:00<…"
            ]
          },
          "metadata": {},
          "output_type": "display_data"
        },
        {
          "name": "stderr",
          "output_type": "stream",
          "text": [
            "Epoch 4, global step 1700: 'eval_loss' was not in top 3\n"
          ]
        },
        {
          "data": {
            "application/vnd.jupyter.widget-view+json": {
              "model_id": "",
              "version_major": 2,
              "version_minor": 0
            },
            "text/plain": [
              "Validation: |                                                                                    | 0/? [00:00<…"
            ]
          },
          "metadata": {},
          "output_type": "display_data"
        },
        {
          "name": "stderr",
          "output_type": "stream",
          "text": [
            "Epoch 4, global step 1800: 'eval_loss' was not in top 3\n"
          ]
        },
        {
          "data": {
            "application/vnd.jupyter.widget-view+json": {
              "model_id": "",
              "version_major": 2,
              "version_minor": 0
            },
            "text/plain": [
              "Validation: |                                                                                    | 0/? [00:00<…"
            ]
          },
          "metadata": {},
          "output_type": "display_data"
        },
        {
          "name": "stderr",
          "output_type": "stream",
          "text": [
            "Epoch 4, global step 1900: 'eval_loss' was not in top 3\n"
          ]
        },
        {
          "data": {
            "application/vnd.jupyter.widget-view+json": {
              "model_id": "",
              "version_major": 2,
              "version_minor": 0
            },
            "text/plain": [
              "Validation: |                                                                                    | 0/? [00:00<…"
            ]
          },
          "metadata": {},
          "output_type": "display_data"
        },
        {
          "name": "stderr",
          "output_type": "stream",
          "text": [
            "Epoch 4, global step 2000: 'eval_loss' was not in top 3\n"
          ]
        },
        {
          "data": {
            "application/vnd.jupyter.widget-view+json": {
              "model_id": "",
              "version_major": 2,
              "version_minor": 0
            },
            "text/plain": [
              "Validation: |                                                                                    | 0/? [00:00<…"
            ]
          },
          "metadata": {},
          "output_type": "display_data"
        },
        {
          "name": "stderr",
          "output_type": "stream",
          "text": [
            "Epoch 5, global step 2100: 'eval_loss' was not in top 3\n"
          ]
        },
        {
          "data": {
            "application/vnd.jupyter.widget-view+json": {
              "model_id": "",
              "version_major": 2,
              "version_minor": 0
            },
            "text/plain": [
              "Validation: |                                                                                    | 0/? [00:00<…"
            ]
          },
          "metadata": {},
          "output_type": "display_data"
        },
        {
          "name": "stderr",
          "output_type": "stream",
          "text": [
            "Epoch 5, global step 2200: 'eval_loss' reached 0.18949 (best 0.18942), saving model to 'D:\\\\Programming\\\\Kaggle\\\\VK_internship\\\\NLP_spam\\\\models\\\\epoch=5-eval_loss=0.19-eval_auc=0.9783.ckpt' as top 3\n"
          ]
        },
        {
          "data": {
            "application/vnd.jupyter.widget-view+json": {
              "model_id": "",
              "version_major": 2,
              "version_minor": 0
            },
            "text/plain": [
              "Validation: |                                                                                    | 0/? [00:00<…"
            ]
          },
          "metadata": {},
          "output_type": "display_data"
        },
        {
          "name": "stderr",
          "output_type": "stream",
          "text": [
            "Epoch 5, global step 2300: 'eval_loss' was not in top 3\n"
          ]
        },
        {
          "data": {
            "application/vnd.jupyter.widget-view+json": {
              "model_id": "",
              "version_major": 2,
              "version_minor": 0
            },
            "text/plain": [
              "Validation: |                                                                                    | 0/? [00:00<…"
            ]
          },
          "metadata": {},
          "output_type": "display_data"
        },
        {
          "name": "stderr",
          "output_type": "stream",
          "text": [
            "Epoch 5, global step 2400: 'eval_loss' was not in top 3\n"
          ]
        },
        {
          "data": {
            "application/vnd.jupyter.widget-view+json": {
              "model_id": "aa0ef537849d4824b3395c68176efc9c",
              "version_major": 2,
              "version_minor": 0
            },
            "text/plain": [
              "Validation: |                                                                                    | 0/? [00:00<…"
            ]
          },
          "metadata": {},
          "output_type": "display_data"
        },
        {
          "name": "stderr",
          "output_type": "stream",
          "text": [
            "Epoch 6, global step 2500: 'eval_loss' was not in top 3\n"
          ]
        },
        {
          "data": {
            "application/vnd.jupyter.widget-view+json": {
              "model_id": "122c67cff27e4f0bb8989a9a14bf051e",
              "version_major": 2,
              "version_minor": 0
            },
            "text/plain": [
              "Validation: |                                                                                    | 0/? [00:00<…"
            ]
          },
          "metadata": {},
          "output_type": "display_data"
        },
        {
          "name": "stderr",
          "output_type": "stream",
          "text": [
            "Epoch 6, global step 2600: 'eval_loss' was not in top 3\n"
          ]
        },
        {
          "data": {
            "application/vnd.jupyter.widget-view+json": {
              "model_id": "d025613acc5a48feb705a652ead713aa",
              "version_major": 2,
              "version_minor": 0
            },
            "text/plain": [
              "Validation: |                                                                                    | 0/? [00:00<…"
            ]
          },
          "metadata": {},
          "output_type": "display_data"
        },
        {
          "name": "stderr",
          "output_type": "stream",
          "text": [
            "Epoch 6, global step 2700: 'eval_loss' was not in top 3\n"
          ]
        },
        {
          "data": {
            "application/vnd.jupyter.widget-view+json": {
              "model_id": "e2c24860e6234f0caf13fba1a8ac777e",
              "version_major": 2,
              "version_minor": 0
            },
            "text/plain": [
              "Validation: |                                                                                    | 0/? [00:00<…"
            ]
          },
          "metadata": {},
          "output_type": "display_data"
        },
        {
          "name": "stderr",
          "output_type": "stream",
          "text": [
            "Epoch 6, global step 2800: 'eval_loss' was not in top 3\n"
          ]
        },
        {
          "data": {
            "application/vnd.jupyter.widget-view+json": {
              "model_id": "b34c2e597d624ba1a5ee99bf328fc13f",
              "version_major": 2,
              "version_minor": 0
            },
            "text/plain": [
              "Validation: |                                                                                    | 0/? [00:00<…"
            ]
          },
          "metadata": {},
          "output_type": "display_data"
        },
        {
          "name": "stderr",
          "output_type": "stream",
          "text": [
            "Epoch 7, global step 2900: 'eval_loss' was not in top 3\n"
          ]
        },
        {
          "data": {
            "application/vnd.jupyter.widget-view+json": {
              "model_id": "",
              "version_major": 2,
              "version_minor": 0
            },
            "text/plain": [
              "Validation: |                                                                                    | 0/? [00:00<…"
            ]
          },
          "metadata": {},
          "output_type": "display_data"
        },
        {
          "name": "stderr",
          "output_type": "stream",
          "text": [
            "Epoch 7, global step 3000: 'eval_loss' was not in top 3\n"
          ]
        },
        {
          "data": {
            "application/vnd.jupyter.widget-view+json": {
              "model_id": "",
              "version_major": 2,
              "version_minor": 0
            },
            "text/plain": [
              "Validation: |                                                                                    | 0/? [00:00<…"
            ]
          },
          "metadata": {},
          "output_type": "display_data"
        },
        {
          "name": "stderr",
          "output_type": "stream",
          "text": [
            "Epoch 7, global step 3100: 'eval_loss' was not in top 3\n"
          ]
        },
        {
          "data": {
            "application/vnd.jupyter.widget-view+json": {
              "model_id": "",
              "version_major": 2,
              "version_minor": 0
            },
            "text/plain": [
              "Validation: |                                                                                    | 0/? [00:00<…"
            ]
          },
          "metadata": {},
          "output_type": "display_data"
        },
        {
          "name": "stderr",
          "output_type": "stream",
          "text": [
            "Epoch 7, global step 3200: 'eval_loss' was not in top 3\n"
          ]
        },
        {
          "data": {
            "application/vnd.jupyter.widget-view+json": {
              "model_id": "",
              "version_major": 2,
              "version_minor": 0
            },
            "text/plain": [
              "Validation: |                                                                                    | 0/? [00:00<…"
            ]
          },
          "metadata": {},
          "output_type": "display_data"
        },
        {
          "name": "stderr",
          "output_type": "stream",
          "text": [
            "Epoch 8, global step 3300: 'eval_loss' was not in top 3\n"
          ]
        },
        {
          "data": {
            "application/vnd.jupyter.widget-view+json": {
              "model_id": "",
              "version_major": 2,
              "version_minor": 0
            },
            "text/plain": [
              "Validation: |                                                                                    | 0/? [00:00<…"
            ]
          },
          "metadata": {},
          "output_type": "display_data"
        },
        {
          "name": "stderr",
          "output_type": "stream",
          "text": [
            "Epoch 8, global step 3400: 'eval_loss' was not in top 3\n"
          ]
        },
        {
          "data": {
            "application/vnd.jupyter.widget-view+json": {
              "model_id": "",
              "version_major": 2,
              "version_minor": 0
            },
            "text/plain": [
              "Validation: |                                                                                    | 0/? [00:00<…"
            ]
          },
          "metadata": {},
          "output_type": "display_data"
        },
        {
          "name": "stderr",
          "output_type": "stream",
          "text": [
            "Epoch 8, global step 3500: 'eval_loss' was not in top 3\n"
          ]
        },
        {
          "data": {
            "application/vnd.jupyter.widget-view+json": {
              "model_id": "",
              "version_major": 2,
              "version_minor": 0
            },
            "text/plain": [
              "Validation: |                                                                                    | 0/? [00:00<…"
            ]
          },
          "metadata": {},
          "output_type": "display_data"
        }
      ],
      "source": [
        "seed_everything(SEED)\n",
        "criterion = nn.CrossEntropyLoss()\n",
        "n_steps_per_val = 100\n",
        "auc = roc_auc_score\n",
        "torch.set_float32_matmul_precision('highest')\n",
        "model = CustomCNN(criterion, auc, len(token_to_id), max_len)\n",
        "model.to(DEVICE)\n",
        "n_epochs = 50\n",
        "\n",
        "checkpoint_callback = L.callbacks.ModelCheckpoint(\n",
        "    dirpath='../models/', verbose=True, save_top_k=3, monitor='eval_loss', mode='min',\n",
        "    filename='{epoch}-{eval_loss:.2f}-{eval_auc:.4f}', every_n_train_steps=n_steps_per_val\n",
        ")\n",
        "# earlystopping_callback = L.callbacks.EarlyStopping(\n",
        "#     monitor='eval_auc', mode='max', patience=5, verbose=True\n",
        "# )\n",
        "\n",
        "\n",
        "learning_rate_callback = L.callbacks.LearningRateMonitor(logging_interval='epoch')\n",
        "wandb_logger = L.loggers.WandbLogger(log_model=False, project=\"SpamClassification\", name=f'{repr(model)} | batch_size={BATCH_SIZE}')\n",
        "trainer = L.Trainer(accelerator='gpu', max_epochs=n_epochs,\n",
        "                    logger=wandb_logger, val_check_interval=n_steps_per_val, check_val_every_n_epoch=None,\n",
        "                    callbacks=[checkpoint_callback, learning_rate_callback])\n",
        "trainer.fit(model, X_train_dataloader, X_eval_dataloader)\n"
      ]
    },
    {
      "cell_type": "code",
      "execution_count": null,
      "id": "d0c617ca-e899-428b-a527-a11a418e6d2a",
      "metadata": {
        "colab": {
          "referenced_widgets": [
            ""
          ]
        },
        "id": "d0c617ca-e899-428b-a527-a11a418e6d2a",
        "outputId": "c1ed0f84-f6b9-41ba-e498-cea699e233ff"
      },
      "outputs": [
        {
          "data": {
            "application/vnd.jupyter.widget-view+json": {
              "model_id": "",
              "version_major": 2,
              "version_minor": 0
            },
            "text/plain": [
              "VBox(children=(Label(value='0.001 MB of 0.001 MB uploaded\\r'), FloatProgress(value=1.0, max=1.0)))"
            ]
          },
          "metadata": {},
          "output_type": "display_data"
        },
        {
          "data": {
            "text/html": [
              "<style>\n",
              "    table.wandb td:nth-child(1) { padding: 0 10px; text-align: left ; width: auto;} td:nth-child(2) {text-align: left ; width: 100%}\n",
              "    .wandb-row { display: flex; flex-direction: row; flex-wrap: wrap; justify-content: flex-start; width: 100% }\n",
              "    .wandb-col { display: flex; flex-direction: column; flex-basis: 100%; flex: 1; padding: 10px; }\n",
              "    </style>\n",
              "<div class=\"wandb-row\"><div class=\"wandb-col\"><h3>Run history:</h3><br/><table class=\"wandb\"><tr><td>epoch</td><td>▁▁▁▁▁▁▁▁███</td></tr><tr><td>eval_auc</td><td>▁▁▁▁▁▁▁▁▁▁█</td></tr><tr><td>eval_loss</td><td>▁</td></tr><tr><td>lr-Adam</td><td>▁▁</td></tr><tr><td>train_auc</td><td>▁▃▅▅▇▇▇███</td></tr><tr><td>train_loss</td><td>█▆▄▆▃▂▄▁▁▂</td></tr><tr><td>trainer/global_step</td><td>▁▂▂▃▄▄▅▆▇▇▇██</td></tr></table><br/></div><div class=\"wandb-col\"><h3>Run summary:</h3><br/><table class=\"wandb\"><tr><td>epoch</td><td>1</td></tr><tr><td>eval_auc</td><td>0.93058</td></tr><tr><td>eval_loss</td><td>0.26274</td></tr><tr><td>lr-Adam</td><td>0.0001</td></tr><tr><td>train_auc</td><td>0.95833</td></tr><tr><td>train_loss</td><td>0.28631</td></tr><tr><td>trainer/global_step</td><td>499</td></tr></table><br/></div></div>"
            ],
            "text/plain": [
              "<IPython.core.display.HTML object>"
            ]
          },
          "metadata": {},
          "output_type": "display_data"
        },
        {
          "data": {
            "text/html": [
              " View run <strong style=\"color:#cdcd00\">CustomCNN(\n",
              "  (criterion): CrossEntropyLoss()\n",
              "  (embedding): Embedding(54490, 256)\n",
              "  (conv1): Conv1d(256, 4096, kernel_size=(3,), stride=(1,))\n",
              "  (conv2): Conv1d(4096, 4096, kernel_size=(3,), stride=(1,))\n",
              "  (max_pool7): MaxPool1d(kernel_size=7, stride=7, padding=0, dilation=1, ceil_mode=False)\n",
              "  (max_pool5): MaxPool1d(kernel_size=5, stride=5, padding=0, dilation=1, ceil_mode=False)\n",
              "  (max_pool3): MaxPool1d(kernel_size=3, stride=3, padding=0, dilation=1, ceil_mode=False)\n",
              "  (linear2): Linear(in_features=94208, out_features=512, bias=True)\n",
              "  (linear3): Linear(in_features=512, out_features=2, bias=True)\n",
              "  (act): ReLU()\n",
              ") | batch_size=32</strong> at: <a href='https://wandb.ai/yaroslav_pr_17/SpamClassification/runs/6q9jknz4' target=\"_blank\">https://wandb.ai/yaroslav_pr_17/SpamClassification/runs/6q9jknz4</a><br/>Synced 5 W&B file(s), 0 media file(s), 0 artifact file(s) and 0 other file(s)"
            ],
            "text/plain": [
              "<IPython.core.display.HTML object>"
            ]
          },
          "metadata": {},
          "output_type": "display_data"
        },
        {
          "data": {
            "text/html": [
              "Find logs at: <code>.\\wandb\\run-20240503_204708-6q9jknz4\\logs</code>"
            ],
            "text/plain": [
              "<IPython.core.display.HTML object>"
            ]
          },
          "metadata": {},
          "output_type": "display_data"
        }
      ],
      "source": [
        "wandb.finish()"
      ]
    },
    {
      "cell_type": "code",
      "execution_count": null,
      "id": "336d635c-59d1-4d1d-b128-d6345a8dd017",
      "metadata": {
        "colab": {
          "referenced_widgets": [
            "bb7d263203764b0a9004fe643f29c6d8"
          ]
        },
        "id": "336d635c-59d1-4d1d-b128-d6345a8dd017",
        "outputId": "501c0ee3-7041-4a65-9f7b-7a8bc1f3b9d2"
      },
      "outputs": [
        {
          "name": "stderr",
          "output_type": "stream",
          "text": [
            "LOCAL_RANK: 0 - CUDA_VISIBLE_DEVICES: [0]\n"
          ]
        },
        {
          "data": {
            "application/vnd.jupyter.widget-view+json": {
              "model_id": "bb7d263203764b0a9004fe643f29c6d8",
              "version_major": 2,
              "version_minor": 0
            },
            "text/plain": [
              "Predicting: |                                                                                    | 0/? [00:00<…"
            ]
          },
          "metadata": {},
          "output_type": "display_data"
        },
        {
          "name": "stdout",
          "output_type": "stream",
          "text": [
            "CNN ROC_AUC: 0.9803413151716367\n"
          ]
        }
      ],
      "source": [
        "preds = torch.cat(trainer.predict(model, X_eval_dataloader), dim=0).softmax(dim=1)\n",
        "metric = roc_auc_score(y_eval, preds[:, 1])\n",
        "\n",
        "print(f'CNN ROC_AUC: {metric}')"
      ]
    },
    {
      "cell_type": "markdown",
      "source": [
        "# YandexGPT"
      ],
      "metadata": {
        "id": "cWFuOEfNOLWO"
      },
      "id": "cWFuOEfNOLWO"
    },
    {
      "cell_type": "code",
      "execution_count": null,
      "metadata": {
        "id": "e6a50c19-d7ec-4825-870e-a0eefd183c6c"
      },
      "outputs": [],
      "source": [
        "from typing import Dict\n",
        "\n",
        "import requests\n",
        "\n",
        "\n",
        "def gpt_async_request(text: str, model_subname: str) -> Dict:\n",
        "    prompt = {\n",
        "        \"modelUri\": f\"gpt://<folder-id>/yandex{model_subname}/latest\",\n",
        "        \"completionOptions\": {\n",
        "            \"stream\": False,\n",
        "            \"temperature\": 0.05,\n",
        "            \"maxTokens\": \"2\"\n",
        "        },\n",
        "\n",
        "        \"messages\": [\n",
        "            {\n",
        "                \"role\": \"system\",\n",
        "                \"text\": f'You are given a text. Please, write \"spam\" if this message is spam. Or \"ham\" if it is a normal text.'\n",
        "            },\n",
        "            {\n",
        "                \"role\": \"user\",\n",
        "                \"text\": text\n",
        "            }\n",
        "        ]\n",
        "    }\n",
        "\n",
        "    print(prompt)\n",
        "\n",
        "    url = \"https://llm.api.cloud.yandex.net/foundationModels/v1/completionAsync\"\n",
        "    headers = {\n",
        "        \"Content-Type\": \"application/json\",\n",
        "        \"Authorization\": \"Api-Key <api-key>\"\n",
        "    }\n",
        "\n",
        "    response = requests.post(url, headers=headers, json=prompt)\n",
        "    print(f'{response.status_code} | {response.json()}')\n",
        "\n",
        "    return response.json()\n",
        "\n",
        "\n",
        "def gpt_answer(request_id: str) -> Dict:\n",
        "    url = \"https://llm.api.cloud.yandex.net/operations/\" + request_id\n",
        "    headers = {\n",
        "        \"Content-Type\": \"application/json\",\n",
        "        \"Authorization\": \"Api-Key <api-key>\"\n",
        "    }\n",
        "\n",
        "    response = requests.get(url, headers=headers)\n",
        "\n",
        "    print(f'{response.status_code} | {response.json()}')\n",
        "\n",
        "    return response.json()['response']['alternatives'][0]['message']['text']\n"
      ],
      "id": "e6a50c19-d7ec-4825-870e-a0eefd183c6c"
    },
    {
      "cell_type": "code",
      "execution_count": null,
      "metadata": {
        "scrolled": true,
        "id": "7d20d727-200b-48ef-a1e3-835432495358"
      },
      "outputs": [],
      "source": [
        "from time import sleep\n",
        "from tqdm.notebook import trange\n",
        "\n",
        "ids = []\n",
        "predictions = []\n",
        "\n",
        "for i in trange(1000):\n",
        "    resp = gpt_async_request(full_train.iloc[i].text, 'gpt')\n",
        "    ids.append(resp['id'])\n",
        "\n",
        "sleep(60)\n",
        "\n",
        "for i in trange(0, 1000):\n",
        "    resp = gpt_answer(ids[i]).lower()\n",
        "    predictions.append(resp)\n",
        "    print(resp)"
      ],
      "id": "7d20d727-200b-48ef-a1e3-835432495358"
    },
    {
      "cell_type": "code",
      "execution_count": null,
      "metadata": {
        "id": "bb82a945-a0de-4ef0-a51a-d625827f0e49",
        "outputId": "f4afc16e-77f5-489b-be70-4609b590351e"
      },
      "outputs": [
        {
          "data": {
            "text/html": [
              "<div>\n",
              "<style scoped>\n",
              "    .dataframe tbody tr th:only-of-type {\n",
              "        vertical-align: middle;\n",
              "    }\n",
              "\n",
              "    .dataframe tbody tr th {\n",
              "        vertical-align: top;\n",
              "    }\n",
              "\n",
              "    .dataframe thead th {\n",
              "        text-align: right;\n",
              "    }\n",
              "</style>\n",
              "<table border=\"1\" class=\"dataframe\">\n",
              "  <thead>\n",
              "    <tr style=\"text-align: right;\">\n",
              "      <th></th>\n",
              "      <th>preds</th>\n",
              "      <th>labels</th>\n",
              "    </tr>\n",
              "  </thead>\n",
              "  <tbody>\n",
              "    <tr>\n",
              "      <th>0</th>\n",
              "      <td>ham</td>\n",
              "      <td>ham</td>\n",
              "    </tr>\n",
              "    <tr>\n",
              "      <th>1</th>\n",
              "      <td>ham</td>\n",
              "      <td>ham</td>\n",
              "    </tr>\n",
              "    <tr>\n",
              "      <th>2</th>\n",
              "      <td>spam</td>\n",
              "      <td>spam</td>\n",
              "    </tr>\n",
              "    <tr>\n",
              "      <th>3</th>\n",
              "      <td>spam</td>\n",
              "      <td>spam</td>\n",
              "    </tr>\n",
              "    <tr>\n",
              "      <th>4</th>\n",
              "      <td>ham</td>\n",
              "      <td>ham</td>\n",
              "    </tr>\n",
              "    <tr>\n",
              "      <th>...</th>\n",
              "      <td>...</td>\n",
              "      <td>...</td>\n",
              "    </tr>\n",
              "    <tr>\n",
              "      <th>995</th>\n",
              "      <td>spam</td>\n",
              "      <td>spam</td>\n",
              "    </tr>\n",
              "    <tr>\n",
              "      <th>996</th>\n",
              "      <td>ham</td>\n",
              "      <td>ham</td>\n",
              "    </tr>\n",
              "    <tr>\n",
              "      <th>997</th>\n",
              "      <td>ham</td>\n",
              "      <td>ham</td>\n",
              "    </tr>\n",
              "    <tr>\n",
              "      <th>998</th>\n",
              "      <td>ham</td>\n",
              "      <td>ham</td>\n",
              "    </tr>\n",
              "    <tr>\n",
              "      <th>999</th>\n",
              "      <td>ham</td>\n",
              "      <td>ham</td>\n",
              "    </tr>\n",
              "  </tbody>\n",
              "</table>\n",
              "<p>1000 rows × 2 columns</p>\n",
              "</div>"
            ],
            "text/plain": [
              "    preds labels\n",
              "0     ham    ham\n",
              "1     ham    ham\n",
              "2    spam   spam\n",
              "3    spam   spam\n",
              "4     ham    ham\n",
              "..    ...    ...\n",
              "995  spam   spam\n",
              "996   ham    ham\n",
              "997   ham    ham\n",
              "998   ham    ham\n",
              "999   ham    ham\n",
              "\n",
              "[1000 rows x 2 columns]"
            ]
          },
          "execution_count": 60,
          "metadata": {},
          "output_type": "execute_result"
        }
      ],
      "source": [
        "import pandas as pd\n",
        "df = pd.DataFrame(data={\n",
        "    'preds': preds,\n",
        "    'labels': full_train.iloc[:1000].text_type\n",
        "})\n",
        "\n",
        "df['preds'] = df['preds'].apply(lambda el: 'ham' if 'ham' in el or len(el) > 5 else 'spam')\n",
        "df['preds'] = df['preds'].apply(lambda el: 'spam' if 'spam' in el else 'ham')\n",
        "df['preds'] = df['preds'].apply(lambda el: 'ham' if len(el) > 5 else el)\n",
        "df['preds'] = df['preds'].apply(lambda el: el.replace('.', ''))\n",
        "\n",
        "\n",
        "df"
      ],
      "id": "bb82a945-a0de-4ef0-a51a-d625827f0e49"
    },
    {
      "cell_type": "code",
      "execution_count": null,
      "metadata": {
        "id": "c4c928d2-03a8-4013-ae12-10174a10578c",
        "outputId": "aca824f0-a1f5-4f36-a064-167663bad520"
      },
      "outputs": [
        {
          "data": {
            "text/plain": [
              "0.817508499271491"
            ]
          },
          "execution_count": 61,
          "metadata": {},
          "output_type": "execute_result"
        }
      ],
      "source": [
        "mapper = {\n",
        "    'ham': 0,\n",
        "    'spam': 1\n",
        "}\n",
        "\n",
        "roc_auc_score(df['labels'].apply(lambda el: mapper[el]), df['preds'].apply(lambda el: mapper[el]))"
      ],
      "id": "c4c928d2-03a8-4013-ae12-10174a10578c"
    },
    {
      "cell_type": "markdown",
      "id": "0e1abcd6-ffa1-4e1f-9141-0a35f58a46b5",
      "metadata": {
        "id": "0e1abcd6-ffa1-4e1f-9141-0a35f58a46b5"
      },
      "source": [
        "# Final prediction"
      ]
    },
    {
      "cell_type": "code",
      "execution_count": null,
      "id": "520d9460-789d-4fb6-8b3a-dd7a055c5c8c",
      "metadata": {
        "id": "520d9460-789d-4fb6-8b3a-dd7a055c5c8c",
        "outputId": "f7250d68-3e7c-410c-9536-5b88e326edc4"
      },
      "outputs": [
        {
          "name": "stdout",
          "output_type": "stream",
          "text": [
            "<catboost.core.CatBoostClassifier object at 0x0000028E8CEC5430>\n",
            "<catboost.core.CatBoostClassifier object at 0x0000028E86FD8BB0>\n",
            "<catboost.core.CatBoostClassifier object at 0x0000028E81A0F760>\n",
            "<catboost.core.CatBoostClassifier object at 0x0000028E81A0C250>\n",
            "<catboost.core.CatBoostClassifier object at 0x0000028E8CF25BB0>\n",
            "Index(['text', 'automated_readability_index', 'avg_character_per_word',\n",
            "       'avg_letter_per_word', 'avg_sentence_length', 'avg_sentence_per_word',\n",
            "       'avg_syllables_per_word', 'char_count', 'coleman_liau_index',\n",
            "       'count_arabic_long_words', 'count_arabic_syllables',\n",
            "       'count_complex_arabic_words', 'count_faseeh',\n",
            "       'dale_chall_readability_score', 'dale_chall_readability_score_v2',\n",
            "       'difficult_words', 'flesch_kincaid_grade', 'flesch_reading_ease',\n",
            "       'gunning_fog', 'is_difficult_word', 'is_easy_word', 'letter_count',\n",
            "       'lexicon_count', 'linsear_write_formula', 'lix', 'long_word_count',\n",
            "       'mcalpine_eflaw', 'miniword_count', 'monosyllabcount',\n",
            "       'polysyllabcount', 'reading_time', 'rix', 'sentence_count',\n",
            "       'smog_index', 'spache_readability', 'syllable_count',\n",
            "       'words_per_sentence'],\n",
            "      dtype='object')\n"
          ]
        }
      ],
      "source": [
        "print(*models, sep='\\n')\n",
        "print(test.columns)"
      ]
    },
    {
      "cell_type": "code",
      "execution_count": null,
      "id": "5b083686-d1b4-4ebd-8e27-7355cd5a3de4",
      "metadata": {
        "id": "5b083686-d1b4-4ebd-8e27-7355cd5a3de4",
        "outputId": "dce664b0-c395-4520-9d44-239dd55a542c"
      },
      "outputs": [
        {
          "data": {
            "text/html": [
              "<div>\n",
              "<style scoped>\n",
              "    .dataframe tbody tr th:only-of-type {\n",
              "        vertical-align: middle;\n",
              "    }\n",
              "\n",
              "    .dataframe tbody tr th {\n",
              "        vertical-align: top;\n",
              "    }\n",
              "\n",
              "    .dataframe thead th {\n",
              "        text-align: right;\n",
              "    }\n",
              "</style>\n",
              "<table border=\"1\" class=\"dataframe\">\n",
              "  <thead>\n",
              "    <tr style=\"text-align: right;\">\n",
              "      <th></th>\n",
              "      <th>score</th>\n",
              "      <th>text</th>\n",
              "    </tr>\n",
              "  </thead>\n",
              "  <tbody>\n",
              "    <tr>\n",
              "      <th>0</th>\n",
              "      <td>0.005071</td>\n",
              "      <td>j jim whitehead ejw cse ucsc edu write j you o...</td>\n",
              "    </tr>\n",
              "    <tr>\n",
              "      <th>1</th>\n",
              "      <td>0.008016</td>\n",
              "      <td>origin messag from bitbitch magnesium net peop...</td>\n",
              "    </tr>\n",
              "    <tr>\n",
              "      <th>2</th>\n",
              "      <td>0.001423</td>\n",
              "      <td>java for manag vinc durasoft who just taught t...</td>\n",
              "    </tr>\n",
              "    <tr>\n",
              "      <th>3</th>\n",
              "      <td>0.009450</td>\n",
              "      <td>there is a youtub name saiman say</td>\n",
              "    </tr>\n",
              "    <tr>\n",
              "      <th>4</th>\n",
              "      <td>0.992924</td>\n",
              "      <td>underpr issu with high return on equiti the oi...</td>\n",
              "    </tr>\n",
              "    <tr>\n",
              "      <th>...</th>\n",
              "      <td>...</td>\n",
              "      <td>...</td>\n",
              "    </tr>\n",
              "    <tr>\n",
              "      <th>4065</th>\n",
              "      <td>0.035144</td>\n",
              "      <td>husband to wifetum meri zindagi hoorwifeor kya...</td>\n",
              "    </tr>\n",
              "    <tr>\n",
              "      <th>4066</th>\n",
              "      <td>0.000077</td>\n",
              "      <td>baylor enron case studi cindi yes i shall co a...</td>\n",
              "    </tr>\n",
              "    <tr>\n",
              "      <th>4067</th>\n",
              "      <td>0.003287</td>\n",
              "      <td>bore as compar to tp</td>\n",
              "    </tr>\n",
              "    <tr>\n",
              "      <th>4068</th>\n",
              "      <td>0.003071</td>\n",
              "      <td>hellogorg how u my fone was on charg lst nitw ...</td>\n",
              "    </tr>\n",
              "    <tr>\n",
              "      <th>4069</th>\n",
              "      <td>0.000765</td>\n",
              "      <td>energi confer mark we are realli swamp and i w...</td>\n",
              "    </tr>\n",
              "  </tbody>\n",
              "</table>\n",
              "<p>4070 rows × 2 columns</p>\n",
              "</div>"
            ],
            "text/plain": [
              "         score                                               text\n",
              "0     0.005071  j jim whitehead ejw cse ucsc edu write j you o...\n",
              "1     0.008016  origin messag from bitbitch magnesium net peop...\n",
              "2     0.001423  java for manag vinc durasoft who just taught t...\n",
              "3     0.009450                  there is a youtub name saiman say\n",
              "4     0.992924  underpr issu with high return on equiti the oi...\n",
              "...        ...                                                ...\n",
              "4065  0.035144  husband to wifetum meri zindagi hoorwifeor kya...\n",
              "4066  0.000077  baylor enron case studi cindi yes i shall co a...\n",
              "4067  0.003287                               bore as compar to tp\n",
              "4068  0.003071  hellogorg how u my fone was on charg lst nitw ...\n",
              "4069  0.000765  energi confer mark we are realli swamp and i w...\n",
              "\n",
              "[4070 rows x 2 columns]"
            ]
          },
          "execution_count": 79,
          "metadata": {},
          "output_type": "execute_result"
        },
        {
          "data": {
            "image/png": "[encoded data removed]",
            "text/plain": [
              "<Figure size 500x500 with 1 Axes>"
            ]
          },
          "metadata": {},
          "output_type": "display_data"
        },
        {
          "data": {
            "image/png": "[encoded data removed]",
            "text/plain": [
              "<Figure size 500x500 with 1 Axes>"
            ]
          },
          "metadata": {},
          "output_type": "display_data"
        }
      ],
      "source": [
        "test_preds = make_oof_prediction(models, test)\n",
        "\n",
        "submission = pd.DataFrame(data={\n",
        "    'score': test_preds,\n",
        "    'text': test['text']\n",
        "})\n",
        "submission.to_csv('../submissions/out_of_fold_submission.csv', index=False)\n",
        "\n",
        "sns.displot(test_preds)\n",
        "sns.displot(full_train['text_type'])\n",
        "\n",
        "submission"
      ]
    },
    {
      "cell_type": "code",
      "execution_count": null,
      "id": "cd21148d-87a3-4015-8174-72af029dde22",
      "metadata": {
        "id": "cd21148d-87a3-4015-8174-72af029dde22",
        "outputId": "0408594c-fad6-4d2f-a4f3-f1173444f7a0"
      },
      "outputs": [
        {
          "data": {
            "text/html": [
              "<div>\n",
              "<style scoped>\n",
              "    .dataframe tbody tr th:only-of-type {\n",
              "        vertical-align: middle;\n",
              "    }\n",
              "\n",
              "    .dataframe tbody tr th {\n",
              "        vertical-align: top;\n",
              "    }\n",
              "\n",
              "    .dataframe thead th {\n",
              "        text-align: right;\n",
              "    }\n",
              "</style>\n",
              "<table border=\"1\" class=\"dataframe\">\n",
              "  <thead>\n",
              "    <tr style=\"text-align: right;\">\n",
              "      <th></th>\n",
              "      <th>score</th>\n",
              "      <th>text</th>\n",
              "    </tr>\n",
              "  </thead>\n",
              "  <tbody>\n",
              "    <tr>\n",
              "      <th>0</th>\n",
              "      <td>0.003153</td>\n",
              "      <td>j jim whitehead ejw cse ucsc edu write j you o...</td>\n",
              "    </tr>\n",
              "    <tr>\n",
              "      <th>1</th>\n",
              "      <td>0.005358</td>\n",
              "      <td>origin messag from bitbitch magnesium net peop...</td>\n",
              "    </tr>\n",
              "    <tr>\n",
              "      <th>2</th>\n",
              "      <td>0.000245</td>\n",
              "      <td>java for manag vinc durasoft who just taught t...</td>\n",
              "    </tr>\n",
              "    <tr>\n",
              "      <th>3</th>\n",
              "      <td>0.010175</td>\n",
              "      <td>there is a youtub name saiman say</td>\n",
              "    </tr>\n",
              "    <tr>\n",
              "      <th>4</th>\n",
              "      <td>0.996070</td>\n",
              "      <td>underpr issu with high return on equiti the oi...</td>\n",
              "    </tr>\n",
              "    <tr>\n",
              "      <th>...</th>\n",
              "      <td>...</td>\n",
              "      <td>...</td>\n",
              "    </tr>\n",
              "    <tr>\n",
              "      <th>4065</th>\n",
              "      <td>0.020293</td>\n",
              "      <td>husband to wifetum meri zindagi hoorwifeor kya...</td>\n",
              "    </tr>\n",
              "    <tr>\n",
              "      <th>4066</th>\n",
              "      <td>0.000067</td>\n",
              "      <td>baylor enron case studi cindi yes i shall co a...</td>\n",
              "    </tr>\n",
              "    <tr>\n",
              "      <th>4067</th>\n",
              "      <td>0.002811</td>\n",
              "      <td>bore as compar to tp</td>\n",
              "    </tr>\n",
              "    <tr>\n",
              "      <th>4068</th>\n",
              "      <td>0.000964</td>\n",
              "      <td>hellogorg how u my fone was on charg lst nitw ...</td>\n",
              "    </tr>\n",
              "    <tr>\n",
              "      <th>4069</th>\n",
              "      <td>0.000318</td>\n",
              "      <td>energi confer mark we are realli swamp and i w...</td>\n",
              "    </tr>\n",
              "  </tbody>\n",
              "</table>\n",
              "<p>4070 rows × 2 columns</p>\n",
              "</div>"
            ],
            "text/plain": [
              "         score                                               text\n",
              "0     0.003153  j jim whitehead ejw cse ucsc edu write j you o...\n",
              "1     0.005358  origin messag from bitbitch magnesium net peop...\n",
              "2     0.000245  java for manag vinc durasoft who just taught t...\n",
              "3     0.010175                  there is a youtub name saiman say\n",
              "4     0.996070  underpr issu with high return on equiti the oi...\n",
              "...        ...                                                ...\n",
              "4065  0.020293  husband to wifetum meri zindagi hoorwifeor kya...\n",
              "4066  0.000067  baylor enron case studi cindi yes i shall co a...\n",
              "4067  0.002811                               bore as compar to tp\n",
              "4068  0.000964  hellogorg how u my fone was on charg lst nitw ...\n",
              "4069  0.000318  energi confer mark we are realli swamp and i w...\n",
              "\n",
              "[4070 rows x 2 columns]"
            ]
          },
          "execution_count": 78,
          "metadata": {},
          "output_type": "execute_result"
        },
        {
          "data": {
            "image/png": "[encoded data removed]",
            "text/plain": [
              "<Figure size 500x500 with 1 Axes>"
            ]
          },
          "metadata": {},
          "output_type": "display_data"
        },
        {
          "data": {
            "image/png": "[encoded data removed]",
            "text/plain": [
              "<Figure size 500x500 with 1 Axes>"
            ]
          },
          "metadata": {},
          "output_type": "display_data"
        }
      ],
      "source": [
        "test_preds = models[np.argmax(metrics)].predict_proba(test)[:, 1]\n",
        "\n",
        "submission = pd.DataFrame(data={\n",
        "    'score': test_preds,\n",
        "    'text': test['text']\n",
        "})\n",
        "submission.to_csv('../submissions/best_model_submission.csv', index=False)\n",
        "\n",
        "sns.displot(test_preds)\n",
        "sns.displot(full_train['text_type'])\n",
        "\n",
        "submission"
      ]
    },
    {
      "cell_type": "code",
      "execution_count": null,
      "id": "742695b9-fbef-473d-b836-2413eb8288eb",
      "metadata": {
        "id": "742695b9-fbef-473d-b836-2413eb8288eb"
      },
      "outputs": [],
      "source": []
    }
  ],
  "metadata": {
    "kernelspec": {
      "display_name": "Python 3 (ipykernel)",
      "language": "python",
      "name": "python3"
    },
    "language_info": {
      "codemirror_mode": {
        "name": "ipython",
        "version": 3
      },
      "file_extension": ".py",
      "mimetype": "text/x-python",
      "name": "python",
      "nbconvert_exporter": "python",
      "pygments_lexer": "ipython3",
      "version": "3.9.17"
    },
    "colab": {
      "provenance": []
    }
  },
  "nbformat": 4,
  "nbformat_minor": 5
}